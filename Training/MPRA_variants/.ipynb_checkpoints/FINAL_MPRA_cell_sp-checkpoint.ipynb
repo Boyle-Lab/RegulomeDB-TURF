{
 "cells": [
  {
   "cell_type": "code",
   "execution_count": 1,
   "metadata": {},
   "outputs": [],
   "source": [
    "import numpy as np\n",
    "import pandas as pd"
   ]
  },
  {
   "cell_type": "code",
   "execution_count": 2,
   "metadata": {},
   "outputs": [],
   "source": [
    "from collections import defaultdict\n",
    "from collections import Counter"
   ]
  },
  {
   "cell_type": "code",
   "execution_count": 3,
   "metadata": {},
   "outputs": [],
   "source": [
    "import matplotlib.pyplot as plt\n",
    "import seaborn as sns"
   ]
  },
  {
   "cell_type": "code",
   "execution_count": 4,
   "metadata": {},
   "outputs": [],
   "source": [
    "import matplotlib"
   ]
  },
  {
   "cell_type": "code",
   "execution_count": 5,
   "metadata": {},
   "outputs": [],
   "source": [
    "import pickle"
   ]
  },
  {
   "cell_type": "code",
   "execution_count": 6,
   "metadata": {},
   "outputs": [],
   "source": [
    "from sklearn.ensemble import RandomForestClassifier"
   ]
  },
  {
   "cell_type": "code",
   "execution_count": 7,
   "metadata": {},
   "outputs": [],
   "source": [
    "from sklearn.model_selection import StratifiedKFold\n",
    "from sklearn.metrics import average_precision_score, roc_auc_score"
   ]
  },
  {
   "cell_type": "code",
   "execution_count": 8,
   "metadata": {},
   "outputs": [],
   "source": [
    "from sklearn.metrics import confusion_matrix \n",
    "from sklearn.model_selection import train_test_split"
   ]
  },
  {
   "cell_type": "code",
   "execution_count": 9,
   "metadata": {},
   "outputs": [],
   "source": [
    "import pyBigWig"
   ]
  },
  {
   "cell_type": "markdown",
   "metadata": {},
   "source": [
    "# Load feature matrix"
   ]
  },
  {
   "cell_type": "code",
   "execution_count": 2,
   "metadata": {},
   "outputs": [],
   "source": [
    "test_MPRA_E116_cell_sp_all = pd.read_csv('test_MPRA_E116_features_other_scores.txt',sep='\\t')"
   ]
  },
  {
   "cell_type": "code",
   "execution_count": 3,
   "metadata": {},
   "outputs": [],
   "source": [
    "test_MPRA_E118_cell_sp_all = pd.read_csv('test_MPRA_E118_features_other_scores.txt',sep='\\t')"
   ]
  },
  {
   "cell_type": "code",
   "execution_count": 4,
   "metadata": {},
   "outputs": [],
   "source": [
    "test_MPRA_E123_cell_sp_all = pd.read_csv('test_MPRA_E123_features_other_scores.txt',sep='\\t')"
   ]
  },
  {
   "cell_type": "markdown",
   "metadata": {},
   "source": [
    "# CV general * cell sp, 1000 replicates"
   ]
  },
  {
   "cell_type": "code",
   "execution_count": 5,
   "metadata": {},
   "outputs": [],
   "source": [
    "features_generic = ['CHIP','DNASE','PWM','FOOTPRINT','EQTL_2','PWM_matched','FOOTPRINT_matched','IC','IC_matched','funsig','ChIP_var','ChIP_max','ChIP_quantile1','ChIP_quantile2','ChIP_quantile3']"
   ]
  },
  {
   "cell_type": "markdown",
   "metadata": {},
   "source": [
    "## E116"
   ]
  },
  {
   "cell_type": "code",
   "execution_count": 61,
   "metadata": {},
   "outputs": [],
   "source": [
    "features_cell_sp = ['H2AFZ_cellSp',\n",
    " 'H3K27ac_cellSp',\n",
    " 'H3K27me3_cellSp',\n",
    " 'H3K36me3_cellSp',\n",
    " 'H3K4me1_cellSp',\n",
    " 'H3K4me2_cellSp',\n",
    " 'H3K4me3_cellSp',\n",
    " 'H3K79me2_cellSp',\n",
    " 'H3K9ac_cellSp',\n",
    " 'H4K20me1_cellSp',\n",
    " 'DNASE_cellSp',\n",
    " 'FOOTPRINT_cellSp']"
   ]
  },
  {
   "cell_type": "code",
   "execution_count": 77,
   "metadata": {},
   "outputs": [],
   "source": [
    "x_1 = np.array(test_MPRA_E116_cell_sp_all[features_generic])\n",
    "x_2 = np.array(test_MPRA_E116_cell_sp_all[features_cell_sp])\n",
    "y = test_MPRA_E116_cell_sp_all['Label']"
   ]
  },
  {
   "cell_type": "code",
   "execution_count": 78,
   "metadata": {},
   "outputs": [],
   "source": [
    "#1000 replicates\n",
    "fold = 5 \n",
    "clf_1=RandomForestClassifier(n_estimators=100,random_state=100,oob_score=True)\n",
    "clf_2=RandomForestClassifier(n_estimators=100,random_state=100,oob_score=True)"
   ]
  },
  {
   "cell_type": "code",
   "execution_count": 79,
   "metadata": {},
   "outputs": [],
   "source": [
    "roc_aucs = []\n",
    "ave_prs = []\n",
    "cors = []\n",
    "for i in range(200):\n",
    "    cv = StratifiedKFold(n_splits=fold,shuffle=True)\n",
    "    for train, test in cv.split(x_1,y):\n",
    "        y_1 = clf_1.fit(x_1[train], y[train]).predict_proba(x_1[test])[:,1]\n",
    "        y_2 = clf_2.fit(x_2[train], y[train]).predict_proba(x_2[test])[:,1]\n",
    "        y_true = y[test]\n",
    "        roc_auc = roc_auc_score(y_true, y_1 * y_2)\n",
    "        roc_aucs.append(roc_auc)\n",
    "        ave_pr = average_precision_score(y_true, y_1 * y_2)\n",
    "        ave_prs.append(ave_pr)\n",
    "        cors.append(np.corrcoef(y_1 * y_2,y_true)[0,1])"
   ]
  },
  {
   "cell_type": "code",
   "execution_count": 80,
   "metadata": {},
   "outputs": [
    {
     "name": "stdout",
     "output_type": "stream",
     "text": [
      "0.7314763948274958 0.5482792745100853 0.44960114087791314\n"
     ]
    }
   ],
   "source": [
    "print (sum(roc_aucs)/1000,sum(ave_prs)/1000,sum(cors)/1000)"
   ]
  },
  {
   "cell_type": "code",
   "execution_count": 146,
   "metadata": {},
   "outputs": [],
   "source": [
    "x_1 = np.array(test_MPRA_E116_cell_sp_all[features_generic])\n",
    "y = test_MPRA_E116_cell_sp_all['Label']"
   ]
  },
  {
   "cell_type": "code",
   "execution_count": 147,
   "metadata": {},
   "outputs": [],
   "source": [
    "roc_aucs = []\n",
    "ave_prs = []\n",
    "cors = []\n",
    "for i in range(200):\n",
    "    cv = StratifiedKFold(n_splits=fold,shuffle=True)\n",
    "    for train, test in cv.split(x_1,y):\n",
    "        y_1 = clf_1.fit(x_1[train], y[train]).predict_proba(x_1[test])[:,1]\n",
    "        y_true = y[test]\n",
    "        roc_auc = roc_auc_score(y_true, y_1)\n",
    "        roc_aucs.append(roc_auc)\n",
    "        ave_pr = average_precision_score(y_true, y_1)\n",
    "        ave_prs.append(ave_pr)\n",
    "        cors.append(np.corrcoef(y_1,y_true)[0,1])"
   ]
  },
  {
   "cell_type": "code",
   "execution_count": 148,
   "metadata": {},
   "outputs": [
    {
     "name": "stdout",
     "output_type": "stream",
     "text": [
      "0.7395770587282814 0.5356147133381409 0.4468235296945204\n"
     ]
    }
   ],
   "source": [
    "print (sum(roc_aucs)/1000,sum(ave_prs)/1000,sum(cors)/1000)"
   ]
  },
  {
   "cell_type": "markdown",
   "metadata": {},
   "source": [
    "### clf from ASB cell sp"
   ]
  },
  {
   "cell_type": "code",
   "execution_count": 253,
   "metadata": {},
   "outputs": [],
   "source": [
    "train_ASB_IC = pickle.load(open('/data/data_repo/shengchd/regulomedb_new_query/1000G_phase3/train_ASB_control_added.pkl','rb'))"
   ]
  },
  {
   "cell_type": "code",
   "execution_count": 254,
   "metadata": {},
   "outputs": [],
   "source": [
    "features_generic = ['CHIP','DNASE','PWM','FOOTPRINT','EQTL_2','PWM_matched','FOOTPRINT_matched','IC','IC_matched','funsig','ChIP_var','ChIP_max','ChIP_quantile1','ChIP_quantile2','ChIP_quantile3']"
   ]
  },
  {
   "cell_type": "code",
   "execution_count": 255,
   "metadata": {},
   "outputs": [
    {
     "data": {
      "text/plain": [
       "RandomForestClassifier(bootstrap=True, class_weight=None, criterion='gini',\n",
       "            max_depth=None, max_features='auto', max_leaf_nodes=None,\n",
       "            min_impurity_decrease=0.0, min_impurity_split=None,\n",
       "            min_samples_leaf=1, min_samples_split=2,\n",
       "            min_weight_fraction_leaf=0.0, n_estimators=100, n_jobs=None,\n",
       "            oob_score=True, random_state=100, verbose=0, warm_start=False)"
      ]
     },
     "execution_count": 255,
     "metadata": {},
     "output_type": "execute_result"
    }
   ],
   "source": [
    "x=np.array(train_ASB_IC[features_generic])\n",
    "y=np.array(train_ASB_IC['label'])\n",
    "clf=RandomForestClassifier(n_estimators=100,random_state=100,oob_score=True)\n",
    "clf.fit(x,y)"
   ]
  },
  {
   "cell_type": "code",
   "execution_count": 256,
   "metadata": {},
   "outputs": [
    {
     "data": {
      "text/plain": [
       "0.788107090004036"
      ]
     },
     "execution_count": 256,
     "metadata": {},
     "output_type": "execute_result"
    }
   ],
   "source": [
    "clf.oob_score_"
   ]
  },
  {
   "cell_type": "code",
   "execution_count": 257,
   "metadata": {},
   "outputs": [],
   "source": [
    "pickle.dump(clf,open('/data/data_repo/shengchd/regulomedb_new_query/final_version/ASB_rf_IC_sum_add_control.sav','wb'))"
   ]
  },
  {
   "cell_type": "code",
   "execution_count": 258,
   "metadata": {},
   "outputs": [],
   "source": [
    "clf_generic = pickle.load(open('/data/data_repo/shengchd/regulomedb_new_query/final_version/ASB_rf_IC_sum_add_control.sav','rb'))"
   ]
  },
  {
   "cell_type": "code",
   "execution_count": 259,
   "metadata": {},
   "outputs": [],
   "source": [
    "clf = pickle.load(open('/data/data_repo/shengchd/regulomedb_new_query/final_version/ASB_cell_sp_clf_dict.pkl','rb'))"
   ]
  },
  {
   "cell_type": "code",
   "execution_count": 260,
   "metadata": {},
   "outputs": [],
   "source": [
    "features_cell_sp_ensemble = ['H3K27ac_cellSp',\n",
    " 'H3K36me3_cellSp',\n",
    " 'H3K4me1_cellSp',\n",
    " 'H3K4me3_cellSp',\n",
    " 'H3K27me3_cellSp',\n",
    " 'DNASE_cellSp',\n",
    " 'FOOTPRINT_cellSp']"
   ]
  },
  {
   "cell_type": "code",
   "execution_count": 261,
   "metadata": {},
   "outputs": [],
   "source": [
    "x_1 = np.array(test_MPRA_E116_cell_sp_all[features_generic])\n",
    "y_1 = clf_generic.predict_proba(test_MPRA_E116_cell_sp_all[features_generic])[:,1]\n",
    "x_2 = np.array(test_MPRA_E116_cell_sp_all[features_cell_sp_ensemble])\n",
    "y_2 = np.mean(np.array([list(clf[c].predict_proba(x_2)[:,1]) for c in clf.keys()]),axis=0)\n",
    "y = test_MPRA_E116_cell_sp_all['Label']"
   ]
  },
  {
   "cell_type": "code",
   "execution_count": 263,
   "metadata": {},
   "outputs": [
    {
     "name": "stdout",
     "output_type": "stream",
     "text": [
      "0.484\n",
      "0.724\n",
      "0.393\n"
     ]
    }
   ],
   "source": [
    "print (np.round(average_precision_score(y, y_1*y_2),3))\n",
    "print (np.round(roc_auc_score(y, y_1*y_2),3))\n",
    "print (np.round(np.corrcoef(y, y_1*y_2)[0,1],3))"
   ]
  },
  {
   "cell_type": "markdown",
   "metadata": {},
   "source": [
    "## E118"
   ]
  },
  {
   "cell_type": "code",
   "execution_count": 88,
   "metadata": {},
   "outputs": [],
   "source": [
    "features_cell_sp_2 = ['H3K27ac_cellSp',\n",
    " 'H3K27me3_cellSp',\n",
    " 'H3K36me3_cellSp',\n",
    " 'H3K4me1_cellSp',\n",
    " 'H3K4me2_cellSp',\n",
    " 'H3K4me3_cellSp',\n",
    " 'H3K9ac_cellSp',\n",
    " 'H3K9me3_cellSp',\n",
    " 'H4K20me1_cellSp',\n",
    " 'DNASE_cellSp',\n",
    " 'FOOTPRINT_cellSp']"
   ]
  },
  {
   "cell_type": "code",
   "execution_count": 89,
   "metadata": {},
   "outputs": [],
   "source": [
    "x_1 = np.array(test_MPRA_E118_cell_sp_all[features_generic])\n",
    "x_2 = np.array(test_MPRA_E118_cell_sp_all[features_cell_sp_2])\n",
    "y = test_MPRA_E118_cell_sp_all['Label']"
   ]
  },
  {
   "cell_type": "code",
   "execution_count": 90,
   "metadata": {},
   "outputs": [],
   "source": [
    "#1000 replicates\n",
    "fold = 5 \n",
    "clf_1=RandomForestClassifier(n_estimators=100,random_state=100,oob_score=True)\n",
    "clf_2=RandomForestClassifier(n_estimators=100,random_state=100,oob_score=True)"
   ]
  },
  {
   "cell_type": "code",
   "execution_count": null,
   "metadata": {},
   "outputs": [],
   "source": [
    "roc_aucs = []\n",
    "ave_prs = []\n",
    "cors = []\n",
    "for i in range(200):\n",
    "    print (i)\n",
    "    cv = StratifiedKFold(n_splits=fold,shuffle=True)\n",
    "    for train, test in cv.split(x_1,y):\n",
    "        y_1 = clf_1.fit(x_1[train], y[train]).predict_proba(x_1[test])[:,1]\n",
    "        y_2 = clf_2.fit(x_2[train], y[train]).predict_proba(x_2[test])[:,1]\n",
    "        y_true = y[test]\n",
    "        roc_auc = roc_auc_score(y_true, y_1 * y_2)\n",
    "        roc_aucs.append(roc_auc)\n",
    "        ave_pr = average_precision_score(y_true, y_1 * y_2)\n",
    "        ave_prs.append(ave_pr)\n",
    "        cors.append(np.corrcoef(y_1 * y_2,y_true)[0,1])"
   ]
  },
  {
   "cell_type": "code",
   "execution_count": 92,
   "metadata": {},
   "outputs": [
    {
     "name": "stdout",
     "output_type": "stream",
     "text": [
      "0.7654597273097272 0.5705757443960903 0.4226768752305934\n"
     ]
    }
   ],
   "source": [
    "print (sum(roc_aucs)/1000,sum(ave_prs)/1000,sum(cors)/1000)"
   ]
  },
  {
   "cell_type": "code",
   "execution_count": 149,
   "metadata": {},
   "outputs": [],
   "source": [
    "x_1 = np.array(test_MPRA_E118_cell_sp_all[features_generic])\n",
    "y = test_MPRA_E118_cell_sp_all['Label']"
   ]
  },
  {
   "cell_type": "code",
   "execution_count": 150,
   "metadata": {},
   "outputs": [],
   "source": [
    "roc_aucs = []\n",
    "ave_prs = []\n",
    "cors = []\n",
    "for i in range(200):\n",
    "    cv = StratifiedKFold(n_splits=fold,shuffle=True)\n",
    "    for train, test in cv.split(x_1,y):\n",
    "        y_1 = clf_1.fit(x_1[train], y[train]).predict_proba(x_1[test])[:,1]\n",
    "        y_true = y[test]\n",
    "        roc_auc = roc_auc_score(y_true, y_1)\n",
    "        roc_aucs.append(roc_auc)\n",
    "        ave_pr = average_precision_score(y_true, y_1)\n",
    "        ave_prs.append(ave_pr)\n",
    "        cors.append(np.corrcoef(y_1,y_true)[0,1])"
   ]
  },
  {
   "cell_type": "code",
   "execution_count": 151,
   "metadata": {},
   "outputs": [
    {
     "name": "stdout",
     "output_type": "stream",
     "text": [
      "0.733480862667142 0.5018751361229498 0.3717931578433827\n"
     ]
    }
   ],
   "source": [
    "print (sum(roc_aucs)/1000,sum(ave_prs)/1000,sum(cors)/1000)"
   ]
  },
  {
   "cell_type": "markdown",
   "metadata": {},
   "source": [
    "### clf from ASB cell sp"
   ]
  },
  {
   "cell_type": "code",
   "execution_count": 264,
   "metadata": {},
   "outputs": [],
   "source": [
    "x_1 = np.array(test_MPRA_E118_cell_sp_all[features_generic])\n",
    "y_1 = clf_generic.predict_proba(test_MPRA_E118_cell_sp_all[features_generic])[:,1]\n",
    "x_2 = np.array(test_MPRA_E118_cell_sp_all[features_cell_sp_ensemble])\n",
    "y_2 = np.mean(np.array([list(clf[c].predict_proba(x_2)[:,1]) for c in clf.keys()]),axis=0)\n",
    "y = test_MPRA_E118_cell_sp_all['Label']"
   ]
  },
  {
   "cell_type": "code",
   "execution_count": 265,
   "metadata": {},
   "outputs": [
    {
     "name": "stdout",
     "output_type": "stream",
     "text": [
      "0.479\n",
      "0.728\n",
      "0.357\n"
     ]
    }
   ],
   "source": [
    "print (np.round(average_precision_score(y, y_1*y_2),3))\n",
    "print (np.round(roc_auc_score(y, y_1*y_2),3))\n",
    "print (np.round(np.corrcoef(y, y_1*y_2)[0,1],3))"
   ]
  },
  {
   "cell_type": "markdown",
   "metadata": {},
   "source": [
    "## E123"
   ]
  },
  {
   "cell_type": "code",
   "execution_count": 98,
   "metadata": {},
   "outputs": [],
   "source": [
    "features_cell_sp_3 = ['H2AFZ_cellSp',\n",
    " 'H3K27ac_cellSp',\n",
    " 'H3K27me3_cellSp',\n",
    " 'H3K36me3_cellSp',\n",
    " 'H3K4me1_cellSp',\n",
    " 'H3K4me2_cellSp',\n",
    " 'H3K4me3_cellSp',\n",
    " 'H3K79me2_cellSp',\n",
    " 'H3K9ac_cellSp',\n",
    " 'H3K9me3_cellSp',\n",
    " 'H4K20me1_cellSp',\n",
    " 'DNASE_cellSp',\n",
    " 'FOOTPRINT_cellSp']"
   ]
  },
  {
   "cell_type": "code",
   "execution_count": 99,
   "metadata": {},
   "outputs": [],
   "source": [
    "x_1 = np.array(test_MPRA_E123_cell_sp_all[features_generic])\n",
    "x_2 = np.array(test_MPRA_E123_cell_sp_all[features_cell_sp_3])\n",
    "y = test_MPRA_E123_cell_sp_all['Label']"
   ]
  },
  {
   "cell_type": "code",
   "execution_count": 100,
   "metadata": {},
   "outputs": [],
   "source": [
    "#1000 replicates\n",
    "fold = 5 \n",
    "clf_1=RandomForestClassifier(n_estimators=100,random_state=100,oob_score=True)\n",
    "clf_2=RandomForestClassifier(n_estimators=100,random_state=100,oob_score=True)"
   ]
  },
  {
   "cell_type": "code",
   "execution_count": null,
   "metadata": {},
   "outputs": [],
   "source": [
    "roc_aucs = []\n",
    "ave_prs = []\n",
    "cors = []\n",
    "for i in range(200):\n",
    "    print (i)\n",
    "    cv = StratifiedKFold(n_splits=fold,shuffle=True)\n",
    "    for train, test in cv.split(x_1,y):\n",
    "        y_1 = clf_1.fit(x_1[train], y[train]).predict_proba(x_1[test])[:,1]\n",
    "        y_2 = clf_2.fit(x_2[train], y[train]).predict_proba(x_2[test])[:,1]\n",
    "        y_true = y[test]\n",
    "        roc_auc = roc_auc_score(y_true, y_1 * y_2)\n",
    "        roc_aucs.append(roc_auc)\n",
    "        ave_pr = average_precision_score(y_true, y_1 * y_2)\n",
    "        ave_prs.append(ave_pr)\n",
    "        cors.append(np.corrcoef(y_1 * y_2,y_true)[0,1])"
   ]
  },
  {
   "cell_type": "code",
   "execution_count": 102,
   "metadata": {},
   "outputs": [
    {
     "name": "stdout",
     "output_type": "stream",
     "text": [
      "0.6809207977509142 0.44123371359509495 0.34361420281256727\n"
     ]
    }
   ],
   "source": [
    "print (sum(roc_aucs)/1000,sum(ave_prs)/1000,sum(cors)/1000)"
   ]
  },
  {
   "cell_type": "code",
   "execution_count": 152,
   "metadata": {},
   "outputs": [],
   "source": [
    "x_1 = np.array(test_MPRA_E123_cell_sp_all[features_generic])\n",
    "y = test_MPRA_E123_cell_sp_all['Label']"
   ]
  },
  {
   "cell_type": "code",
   "execution_count": 153,
   "metadata": {},
   "outputs": [],
   "source": [
    "roc_aucs = []\n",
    "ave_prs = []\n",
    "cors = []\n",
    "for i in range(200):\n",
    "    cv = StratifiedKFold(n_splits=fold,shuffle=True)\n",
    "    for train, test in cv.split(x_1,y):\n",
    "        y_1 = clf_1.fit(x_1[train], y[train]).predict_proba(x_1[test])[:,1]\n",
    "        y_true = y[test]\n",
    "        roc_auc = roc_auc_score(y_true, y_1)\n",
    "        roc_aucs.append(roc_auc)\n",
    "        ave_pr = average_precision_score(y_true, y_1)\n",
    "        ave_prs.append(ave_pr)\n",
    "        cors.append(np.corrcoef(y_1,y_true)[0,1])"
   ]
  },
  {
   "cell_type": "code",
   "execution_count": 154,
   "metadata": {},
   "outputs": [
    {
     "name": "stdout",
     "output_type": "stream",
     "text": [
      "0.6640223261535239 0.3998973942002876 0.29382344752671047\n"
     ]
    }
   ],
   "source": [
    "print (sum(roc_aucs)/1000,sum(ave_prs)/1000,sum(cors)/1000)"
   ]
  },
  {
   "cell_type": "markdown",
   "metadata": {},
   "source": [
    "### clf from ASB cell sp"
   ]
  },
  {
   "cell_type": "code",
   "execution_count": 266,
   "metadata": {},
   "outputs": [],
   "source": [
    "x_1 = np.array(test_MPRA_E123_cell_sp_all[features_generic])\n",
    "y_1 = clf_generic.predict_proba(test_MPRA_E123_cell_sp_all[features_generic])[:,1]\n",
    "x_2 = np.array(test_MPRA_E123_cell_sp_all[features_cell_sp_ensemble])\n",
    "y_2 = np.mean(np.array([list(clf[c].predict_proba(x_2)[:,1]) for c in clf.keys()]),axis=0)\n",
    "y = test_MPRA_E123_cell_sp_all['Label']"
   ]
  },
  {
   "cell_type": "code",
   "execution_count": 267,
   "metadata": {},
   "outputs": [
    {
     "name": "stdout",
     "output_type": "stream",
     "text": [
      "0.329\n",
      "0.676\n",
      "0.253\n"
     ]
    }
   ],
   "source": [
    "print (np.round(average_precision_score(y, y_1*y_2),3))\n",
    "print (np.round(roc_auc_score(y, y_1*y_2),3))\n",
    "print (np.round(np.corrcoef(y, y_1*y_2)[0,1],3))"
   ]
  }
 ],
 "metadata": {
  "kernelspec": {
   "display_name": "Python 3",
   "language": "python",
   "name": "python3"
  },
  "language_info": {
   "codemirror_mode": {
    "name": "ipython",
    "version": 3
   },
   "file_extension": ".py",
   "mimetype": "text/x-python",
   "name": "python",
   "nbconvert_exporter": "python",
   "pygments_lexer": "ipython3",
   "version": "3.7.2"
  }
 },
 "nbformat": 4,
 "nbformat_minor": 2
}
