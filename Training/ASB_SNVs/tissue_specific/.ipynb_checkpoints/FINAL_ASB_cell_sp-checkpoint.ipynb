{
 "cells": [
  {
   "cell_type": "code",
   "execution_count": 1,
   "metadata": {},
   "outputs": [],
   "source": [
    "import numpy as np\n",
    "import pandas as pd"
   ]
  },
  {
   "cell_type": "code",
   "execution_count": 2,
   "metadata": {},
   "outputs": [],
   "source": [
    "from collections import defaultdict"
   ]
  },
  {
   "cell_type": "code",
   "execution_count": 3,
   "metadata": {},
   "outputs": [],
   "source": [
    "import pickle"
   ]
  },
  {
   "cell_type": "code",
   "execution_count": 4,
   "metadata": {},
   "outputs": [],
   "source": [
    "import seaborn as sns"
   ]
  },
  {
   "cell_type": "code",
   "execution_count": 5,
   "metadata": {},
   "outputs": [],
   "source": [
    "import matplotlib\n",
    "import matplotlib.pyplot as plt"
   ]
  },
  {
   "cell_type": "code",
   "execution_count": 6,
   "metadata": {},
   "outputs": [],
   "source": [
    "from sklearn.ensemble import RandomForestClassifier"
   ]
  },
  {
   "cell_type": "code",
   "execution_count": 7,
   "metadata": {},
   "outputs": [],
   "source": [
    "from sklearn.model_selection import StratifiedKFold\n",
    "from sklearn.metrics import average_precision_score, roc_auc_score"
   ]
  },
  {
   "cell_type": "code",
   "execution_count": 8,
   "metadata": {},
   "outputs": [],
   "source": [
    "from sklearn.metrics import confusion_matrix \n",
    "from sklearn.model_selection import train_test_split"
   ]
  },
  {
   "cell_type": "code",
   "execution_count": null,
   "metadata": {},
   "outputs": [],
   "source": [
    "#histone cell sp features:\n",
    "#/data/data_repo/shengchd/rf_training/cell_sp_features_query/histone_mark_cell_sp_features/"
   ]
  },
  {
   "cell_type": "markdown",
   "metadata": {},
   "source": [
    "# Function to reorder alleles for each SNP in order of ref,alt, so can be merged with ChIP signal & funsig dataframe"
   ]
  },
  {
   "cell_type": "code",
   "execution_count": 9,
   "metadata": {},
   "outputs": [],
   "source": [
    "def reorder_alleles(chrom,pos,allele1,allele2):\n",
    "    '''Function to reorder two alleles in order of ref, alt\n",
    "    Args:\n",
    "        chrom (str): query chromosome (e.g. chr1)\n",
    "        pos (int): query position (0-based)\n",
    "        allele1 (str): base of 1st allele (A/C/G/T)\n",
    "        allele2 (str): base of 2nd allele (A/C/G/T)\n",
    "    Returns:\n",
    "        alleles (tuple): two alleles in order of ref, alt\n",
    "    '''\n",
    "    from pyfaidx import Fasta\n",
    "    ref = Fasta('/data/genomes/hg19/seq/hg19.fa',rebuild=False)\n",
    "    \n",
    "    ref_allele = ref[chrom][pos].seq.upper()\n",
    "    if (ref_allele == allele1):\n",
    "        alleles = (allele1,allele2)\n",
    "    elif (ref_allele == allele2):\n",
    "        alleles = (allele2,allele1)\n",
    "    else:\n",
    "        print (chrom + \" \" + str(pos)+ \" no match\")\n",
    "        alleles = (allele1,allele2)\n",
    "    return alleles"
   ]
  },
  {
   "cell_type": "markdown",
   "metadata": {},
   "source": [
    "# Read generic features"
   ]
  },
  {
   "cell_type": "code",
   "execution_count": 12,
   "metadata": {},
   "outputs": [],
   "source": [
    "train_ASB = pd.read_csv('train_ASB_FINAL.txt',sep='\\t')"
   ]
  },
  {
   "cell_type": "code",
   "execution_count": 13,
   "metadata": {},
   "outputs": [
    {
     "data": {
      "text/html": [
       "<div>\n",
       "<style scoped>\n",
       "    .dataframe tbody tr th:only-of-type {\n",
       "        vertical-align: middle;\n",
       "    }\n",
       "\n",
       "    .dataframe tbody tr th {\n",
       "        vertical-align: top;\n",
       "    }\n",
       "\n",
       "    .dataframe thead th {\n",
       "        text-align: right;\n",
       "    }\n",
       "</style>\n",
       "<table border=\"1\" class=\"dataframe\">\n",
       "  <thead>\n",
       "    <tr style=\"text-align: right;\">\n",
       "      <th></th>\n",
       "      <th>chrom</th>\n",
       "      <th>end</th>\n",
       "      <th>ref</th>\n",
       "      <th>alt</th>\n",
       "      <th>label</th>\n",
       "      <th>CHIP</th>\n",
       "      <th>DNASE</th>\n",
       "      <th>PWM</th>\n",
       "      <th>FOOTPRINT</th>\n",
       "      <th>EQTL_2</th>\n",
       "      <th>PWM_matched</th>\n",
       "      <th>FOOTPRINT_matched</th>\n",
       "      <th>IC_change</th>\n",
       "      <th>IC_matched_change</th>\n",
       "      <th>funsig</th>\n",
       "      <th>ChIP_var</th>\n",
       "      <th>ChIP_max</th>\n",
       "      <th>ChIP_quantile1</th>\n",
       "      <th>ChIP_quantile2</th>\n",
       "      <th>ChIP_quantile3</th>\n",
       "    </tr>\n",
       "  </thead>\n",
       "  <tbody>\n",
       "    <tr>\n",
       "      <th>0</th>\n",
       "      <td>chr10</td>\n",
       "      <td>10107267</td>\n",
       "      <td>A</td>\n",
       "      <td>G</td>\n",
       "      <td>1</td>\n",
       "      <td>0</td>\n",
       "      <td>0</td>\n",
       "      <td>1</td>\n",
       "      <td>0</td>\n",
       "      <td>0</td>\n",
       "      <td>0</td>\n",
       "      <td>0</td>\n",
       "      <td>1.99</td>\n",
       "      <td>0.0</td>\n",
       "      <td>0.022459</td>\n",
       "      <td>0.0590</td>\n",
       "      <td>1.86</td>\n",
       "      <td>0.1466</td>\n",
       "      <td>0.2203</td>\n",
       "      <td>0.4275</td>\n",
       "    </tr>\n",
       "    <tr>\n",
       "      <th>1</th>\n",
       "      <td>chr10</td>\n",
       "      <td>101365302</td>\n",
       "      <td>G</td>\n",
       "      <td>A</td>\n",
       "      <td>1</td>\n",
       "      <td>1</td>\n",
       "      <td>1</td>\n",
       "      <td>0</td>\n",
       "      <td>0</td>\n",
       "      <td>0</td>\n",
       "      <td>0</td>\n",
       "      <td>0</td>\n",
       "      <td>0.00</td>\n",
       "      <td>0.0</td>\n",
       "      <td>0.158940</td>\n",
       "      <td>17.3444</td>\n",
       "      <td>65.24</td>\n",
       "      <td>0.1375</td>\n",
       "      <td>0.2330</td>\n",
       "      <td>0.4826</td>\n",
       "    </tr>\n",
       "    <tr>\n",
       "      <th>2</th>\n",
       "      <td>chr10</td>\n",
       "      <td>101844785</td>\n",
       "      <td>A</td>\n",
       "      <td>G</td>\n",
       "      <td>1</td>\n",
       "      <td>1</td>\n",
       "      <td>1</td>\n",
       "      <td>0</td>\n",
       "      <td>0</td>\n",
       "      <td>0</td>\n",
       "      <td>0</td>\n",
       "      <td>0</td>\n",
       "      <td>0.00</td>\n",
       "      <td>0.0</td>\n",
       "      <td>0.004548</td>\n",
       "      <td>47.4364</td>\n",
       "      <td>115.26</td>\n",
       "      <td>0.1359</td>\n",
       "      <td>0.3016</td>\n",
       "      <td>0.7071</td>\n",
       "    </tr>\n",
       "    <tr>\n",
       "      <th>3</th>\n",
       "      <td>chr10</td>\n",
       "      <td>102027407</td>\n",
       "      <td>C</td>\n",
       "      <td>T</td>\n",
       "      <td>1</td>\n",
       "      <td>1</td>\n",
       "      <td>1</td>\n",
       "      <td>1</td>\n",
       "      <td>1</td>\n",
       "      <td>0</td>\n",
       "      <td>0</td>\n",
       "      <td>0</td>\n",
       "      <td>0.00</td>\n",
       "      <td>0.0</td>\n",
       "      <td>0.001705</td>\n",
       "      <td>732.4732</td>\n",
       "      <td>267.98</td>\n",
       "      <td>0.4851</td>\n",
       "      <td>2.1454</td>\n",
       "      <td>8.0536</td>\n",
       "    </tr>\n",
       "    <tr>\n",
       "      <th>4</th>\n",
       "      <td>chr10</td>\n",
       "      <td>102084897</td>\n",
       "      <td>C</td>\n",
       "      <td>T</td>\n",
       "      <td>1</td>\n",
       "      <td>1</td>\n",
       "      <td>1</td>\n",
       "      <td>0</td>\n",
       "      <td>0</td>\n",
       "      <td>0</td>\n",
       "      <td>0</td>\n",
       "      <td>0</td>\n",
       "      <td>0.00</td>\n",
       "      <td>0.0</td>\n",
       "      <td>0.191050</td>\n",
       "      <td>1.7908</td>\n",
       "      <td>20.92</td>\n",
       "      <td>0.0968</td>\n",
       "      <td>0.1992</td>\n",
       "      <td>0.3796</td>\n",
       "    </tr>\n",
       "  </tbody>\n",
       "</table>\n",
       "</div>"
      ],
      "text/plain": [
       "   chrom        end ref alt  label  CHIP  DNASE  PWM  FOOTPRINT  EQTL_2  \\\n",
       "0  chr10   10107267   A   G      1     0      0    1          0       0   \n",
       "1  chr10  101365302   G   A      1     1      1    0          0       0   \n",
       "2  chr10  101844785   A   G      1     1      1    0          0       0   \n",
       "3  chr10  102027407   C   T      1     1      1    1          1       0   \n",
       "4  chr10  102084897   C   T      1     1      1    0          0       0   \n",
       "\n",
       "   PWM_matched  FOOTPRINT_matched  IC_change  IC_matched_change    funsig  \\\n",
       "0            0                  0       1.99                0.0  0.022459   \n",
       "1            0                  0       0.00                0.0  0.158940   \n",
       "2            0                  0       0.00                0.0  0.004548   \n",
       "3            0                  0       0.00                0.0  0.001705   \n",
       "4            0                  0       0.00                0.0  0.191050   \n",
       "\n",
       "   ChIP_var  ChIP_max  ChIP_quantile1  ChIP_quantile2  ChIP_quantile3  \n",
       "0    0.0590      1.86          0.1466          0.2203          0.4275  \n",
       "1   17.3444     65.24          0.1375          0.2330          0.4826  \n",
       "2   47.4364    115.26          0.1359          0.3016          0.7071  \n",
       "3  732.4732    267.98          0.4851          2.1454          8.0536  \n",
       "4    1.7908     20.92          0.0968          0.1992          0.3796  "
      ]
     },
     "execution_count": 13,
     "metadata": {},
     "output_type": "execute_result"
    }
   ],
   "source": [
    "train_ASB.head()"
   ]
  },
  {
   "cell_type": "code",
   "execution_count": 14,
   "metadata": {},
   "outputs": [
    {
     "data": {
      "text/plain": [
       "(14878, 20)"
      ]
     },
     "execution_count": 14,
     "metadata": {},
     "output_type": "execute_result"
    }
   ],
   "source": [
    "train_ASB.shape"
   ]
  },
  {
   "cell_type": "markdown",
   "metadata": {},
   "source": [
    "# Read cell sp features"
   ]
  },
  {
   "cell_type": "code",
   "execution_count": 15,
   "metadata": {},
   "outputs": [],
   "source": [
    "cells = ['GM12878','A549','H1hESC','HepG2','K562','MCF7']"
   ]
  },
  {
   "cell_type": "code",
   "execution_count": 16,
   "metadata": {},
   "outputs": [],
   "source": [
    "df_all_dict = dict()"
   ]
  },
  {
   "cell_type": "code",
   "execution_count": 18,
   "metadata": {},
   "outputs": [],
   "source": [
    "path = '/data/data_repo/shengchd/regulomedb_new_query/ASB_cell_specific_query/'"
   ]
  },
  {
   "cell_type": "code",
   "execution_count": 22,
   "metadata": {},
   "outputs": [
    {
     "name": "stdout",
     "output_type": "stream",
     "text": [
      "GM12878 1844\n",
      "A549 215\n",
      "H1hESC 1460\n",
      "HepG2 2637\n",
      "K562 761\n",
      "MCF7 645\n"
     ]
    }
   ],
   "source": [
    "for cell in cells:\n",
    "    ASB_genotypes = pd.read_csv(path + cell + '.bed',sep='\\t',header = None)\n",
    "    ASB_genotypes.columns = ['chrom','start','end','ref','alt']\n",
    "    #reorder to ref, alt\n",
    "    ASB_genotypes[['ref','alt']] = [reorder_alleles(chrom,pos,allele1,allele2) for  chrom,pos,allele1,allele2 in zip(ASB_genotypes['chrom'],ASB_genotypes['start'],ASB_genotypes['ref'],ASB_genotypes['alt'])]        \n",
    "    ASB_genotypes['cellSp_label'] = 1\n",
    "    df = pd.merge(train_ASB,ASB_genotypes,how='left')\n",
    "    df['cellSp_label'] = df['cellSp_label'].fillna(0)\n",
    "    df['cellSp_label'] = df['cellSp_label'].astype('int64') #if ASB in cell\n",
    "    print (cell,sum(df['cellSp_label']))\n",
    "    df_cellSp = pd.read_csv(path + 'train_ASB_control_added_' + cell + '_cell_sp_features.txt',sep=\"\\t\")\n",
    "    df_cellSp = df_cellSp.drop_duplicates()\n",
    "    df_cellSp_hist = pd.read_csv(path + 'histone_marks/train_ASB_control_added_' + cell + '_cell_sp_hist_features.txt',sep='\\t')\n",
    "    df_cellSp_hist = df_cellSp_hist.drop_duplicates()\n",
    "    df_all = pd.merge(df,df_cellSp)\n",
    "    df_all = pd.merge(df_all,df_cellSp_hist)\n",
    "    df_all_dict[cell] = df_all"
   ]
  },
  {
   "cell_type": "markdown",
   "metadata": {},
   "source": [
    "## Output FINAL cell sp features (dict of dataframe)"
   ]
  },
  {
   "cell_type": "code",
   "execution_count": 25,
   "metadata": {},
   "outputs": [],
   "source": [
    "pickle.dump(df_all_dict,open('df_cell_sp_all_FINAL.pkl','wb'))"
   ]
  },
  {
   "cell_type": "code",
   "execution_count": 307,
   "metadata": {},
   "outputs": [
    {
     "data": {
      "text/plain": [
       "Index(['chrom', 'end', 'ref', 'alt', 'label', 'CHIP', 'DNASE', 'PWM',\n",
       "       'FOOTPRINT', 'EQTL_2', 'PWM_matched', 'FOOTPRINT_matched', 'IC_change',\n",
       "       'IC_matched_change', 'funsig', 'ChIP_var', 'ChIP_max', 'ChIP_quantile1',\n",
       "       'ChIP_quantile2', 'ChIP_quantile3', 'start', 'cellSp_label',\n",
       "       'CHIP_cellSp', 'DNASE_cellSp', 'FOOTPRINT_cellSp', 'EQTL_2_cellSp',\n",
       "       'PWM_matched_cellSp', 'FOOTPRINT_matched_cellSp', 'IC_matched_cellSp',\n",
       "       'H2AFZ_cellSp', 'H2AK5ac_cellSp', 'H2AK9ac_cellSp', 'H2BK120ac_cellSp',\n",
       "       'H2BK12ac_cellSp', 'H2BK15ac_cellSp', 'H2BK20ac_cellSp',\n",
       "       'H2BK5ac_cellSp', 'H3F3A_cellSp', 'H3K14ac_cellSp', 'H3K18ac_cellSp',\n",
       "       'H3K23ac_cellSp', 'H3K23me2_cellSp', 'H3K27ac_cellSp',\n",
       "       'H3K27me3_cellSp', 'H3K36me3_cellSp', 'H3K4ac_cellSp', 'H3K4me1_cellSp',\n",
       "       'H3K4me2_cellSp', 'H3K4me3_cellSp', 'H3K56ac_cellSp', 'H3K79me1_cellSp',\n",
       "       'H3K79me2_cellSp', 'H3K9ac_cellSp', 'H3K9me1_cellSp', 'H3K9me2_cellSp',\n",
       "       'H3K9me3_cellSp', 'H3T11ph_cellSp', 'H4K12ac_cellSp', 'H4K20me1_cellSp',\n",
       "       'H4K5ac_cellSp', 'H4K8ac_cellSp', 'H4K91ac_cellSp'],\n",
       "      dtype='object')"
      ]
     },
     "execution_count": 307,
     "metadata": {},
     "output_type": "execute_result"
    }
   ],
   "source": [
    "df_all.columns"
   ]
  },
  {
   "cell_type": "code",
   "execution_count": 309,
   "metadata": {},
   "outputs": [],
   "source": [
    "for cell in df_all_dict.keys():\n",
    "    df_all = df_all_dict[cell]\n",
    "    df_all[['chrom','end','ref','alt','cellSp_label'] + features_names_cell_sp].to_csv('train_ASB_cellSp_features_' + cell + '.txt',sep='\\t',index=False)"
   ]
  },
  {
   "cell_type": "markdown",
   "metadata": {},
   "source": [
    "# Read generic rf"
   ]
  },
  {
   "cell_type": "code",
   "execution_count": 30,
   "metadata": {},
   "outputs": [],
   "source": [
    "filename = 'ASB_rf_IC_change_add_control.sav'\n",
    "clf_generic = pickle.load(open(filename,'rb'))"
   ]
  },
  {
   "cell_type": "code",
   "execution_count": 31,
   "metadata": {},
   "outputs": [],
   "source": [
    "#generic features\n",
    "features = ['CHIP','DNASE','PWM','FOOTPRINT','EQTL_2','PWM_matched','FOOTPRINT_matched','IC_change','IC_matched_change','funsig','ChIP_var','ChIP_max','ChIP_quantile1','ChIP_quantile2','ChIP_quantile3']"
   ]
  },
  {
   "cell_type": "code",
   "execution_count": 292,
   "metadata": {},
   "outputs": [],
   "source": [
    "df_all = df_all_dict['A549'] #use one union set as representative"
   ]
  },
  {
   "cell_type": "code",
   "execution_count": 33,
   "metadata": {},
   "outputs": [],
   "source": [
    "y_scores = clf_generic.predict_proba(df_all[features])[:,1] #generic scores, same order for all cells"
   ]
  },
  {
   "cell_type": "markdown",
   "metadata": {},
   "source": [
    "# cellSp rf = generic * cellSp features"
   ]
  },
  {
   "cell_type": "code",
   "execution_count": 306,
   "metadata": {},
   "outputs": [],
   "source": [
    "#removed H3K9me3\n",
    "features_names_cell_sp = ['H2AFZ_cellSp',\n",
    " 'H3K27ac_cellSp',\n",
    " 'H3K27me3_cellSp',\n",
    " 'H3K36me3_cellSp',\n",
    " 'H3K4me1_cellSp',\n",
    " 'H3K4me2_cellSp',\n",
    " 'H3K4me3_cellSp',\n",
    " 'H3K79me2_cellSp',\n",
    " 'H3K9ac_cellSp',\n",
    " 'H4K20me1_cellSp',\n",
    " 'DNASE_cellSp',\n",
    " 'FOOTPRINT_cellSp']"
   ]
  },
  {
   "cell_type": "code",
   "execution_count": 37,
   "metadata": {},
   "outputs": [],
   "source": [
    "clf_cellSp=RandomForestClassifier(class_weight='balanced',n_estimators=100,random_state=100,oob_score=True)"
   ]
  },
  {
   "cell_type": "code",
   "execution_count": 38,
   "metadata": {},
   "outputs": [],
   "source": [
    "fold = 5\n",
    "cv = StratifiedKFold(n_splits=fold,shuffle=True,random_state=42)"
   ]
  },
  {
   "cell_type": "code",
   "execution_count": null,
   "metadata": {},
   "outputs": [],
   "source": [
    "roc_aucs = defaultdict(list)\n",
    "ave_prs = defaultdict(list)\n",
    "cors = defaultdict(list)\n",
    "for cell in cells:\n",
    "    print (cell)\n",
    "    df_all = df_all_dict[cell]\n",
    "    x = np.array(df_all[features_names_cell_sp])\n",
    "    y = df_all['cellSp_label']\n",
    "    for train, test in cv.split(x,y):\n",
    "        y_1 = y_scores[test] #generic score from generic clf\n",
    "        y_2 = clf_cellSp.fit(x[train], y[train]).predict_proba(x[test])[:,1]\n",
    "        y_true = y[test]\n",
    "        roc_aucs['generic'].append(roc_auc_score(y_true, y_1))\n",
    "        roc_aucs['cellsp_only'].append(roc_auc_score(y_true, y_2))\n",
    "        roc_aucs['cellsp'].append(roc_auc_score(y_true, y_1 * y_2))\n",
    "        ave_prs['generic'].append(average_precision_score(y_true, y_1))\n",
    "        ave_prs['cellsp_only'].append(average_precision_score(y_true, y_2))\n",
    "        ave_prs['cellsp'].append(average_precision_score(y_true, y_1 * y_2))\n",
    "        cors['generic'].append(np.corrcoef(y_1,y_true)[0,1])\n",
    "        cors['cellsp_only'].append(np.corrcoef(y_2,y_true)[0,1])\n",
    "        cors['cellsp'].append(np.corrcoef(y_1 * y_2,y_true)[0,1])\n",
    "    print ('AUPR')\n",
    "    for model in ave_prs.keys():\n",
    "        print (model,np.round(np.mean(np.array(ave_prs[model])),3))\n",
    "    print ('ROCAUC')\n",
    "    for model in roc_aucs.keys():\n",
    "        print (model,np.round(np.mean(np.array(roc_aucs[model])),3))\n",
    "    print ('COR')\n",
    "    for model in cors.keys():\n",
    "        print (model,np.round(np.mean(np.array(cors[model])),3))\n",
    "        #importance = clf_cellSp.feature_importances_\n",
    "        #features_imp = {'feature':features_names_cell_sp,'importance':list(importance)}\n",
    "        #print(pd.DataFrame(features_imp).sort_values(by=['importance'],ascending=False))"
   ]
  },
  {
   "cell_type": "markdown",
   "metadata": {},
   "source": [
    "# Ensemble model"
   ]
  },
  {
   "cell_type": "code",
   "execution_count": 75,
   "metadata": {},
   "outputs": [],
   "source": [
    "clf = {}"
   ]
  },
  {
   "cell_type": "code",
   "execution_count": 76,
   "metadata": {},
   "outputs": [
    {
     "data": {
      "text/plain": [
       "['H3K27ac_cellSp',\n",
       " 'H3K36me3_cellSp',\n",
       " 'H3K4me1_cellSp',\n",
       " 'H3K4me3_cellSp',\n",
       " 'H3K27me3_cellSp',\n",
       " 'DNASE_cellSp',\n",
       " 'FOOTPRINT_cellSp']"
      ]
     },
     "execution_count": 76,
     "metadata": {},
     "output_type": "execute_result"
    }
   ],
   "source": [
    "features_names_cell_sp_2"
   ]
  },
  {
   "cell_type": "code",
   "execution_count": 77,
   "metadata": {},
   "outputs": [],
   "source": [
    "#adjusted class weight\n",
    "for cell in cells:\n",
    "    df_all = df_all_dict[cell]\n",
    "    x = np.array(df_all[features_names_cell_sp_2])\n",
    "    y = df_all['cellSp_label']\n",
    "    clf[cell]=RandomForestClassifier(class_weight='balanced',n_estimators=100,random_state=100,oob_score=True)\n",
    "    clf[cell].fit(x,y)  "
   ]
  },
  {
   "cell_type": "code",
   "execution_count": 78,
   "metadata": {},
   "outputs": [
    {
     "name": "stdout",
     "output_type": "stream",
     "text": [
      "GM12878 0.7613254469686785\n",
      "A549 0.7743648339830622\n",
      "H1hESC 0.7700631805350181\n",
      "HepG2 0.6683694044898508\n",
      "K562 0.6886678316978089\n",
      "MCF7 0.7002957386745531\n"
     ]
    }
   ],
   "source": [
    "#oob\n",
    "for cell in cells:\n",
    "    print (cell,clf[cell].oob_score_)"
   ]
  },
  {
   "cell_type": "code",
   "execution_count": 291,
   "metadata": {},
   "outputs": [],
   "source": [
    "pickle.dump(clf,open('ASB_cell_sp_clf_dict.pkl','wb')) #output cellSp_ensemble in 6 ASB cells"
   ]
  },
  {
   "cell_type": "markdown",
   "metadata": {},
   "source": [
    "## Violin plot on ASB set"
   ]
  },
  {
   "cell_type": "code",
   "execution_count": 90,
   "metadata": {},
   "outputs": [],
   "source": [
    "#cell sp final scores; 7 features\n",
    "x_preds_final = defaultdict(list)\n",
    "\n",
    "for i in cells: #features from i\n",
    "    for cell in cells: #ASB from cell\n",
    "        df_ASB = df_all_dict[i].loc[df_all_dict[cell]['cellSp_label']==1]\n",
    "        y_ASB_generic = y_scores[df_all_dict[cell]['cellSp_label']==1]\n",
    "        x_ASB = df_ASB[features_names_cell_sp_2]\n",
    "        y_ASB = np.mean(np.array([list(clf[c].predict_proba(x_ASB)[:,1]) for c in cells]),axis=0)\n",
    "        x_preds_final[cell].append(list(y_ASB*y_ASB_generic))"
   ]
  },
  {
   "cell_type": "code",
   "execution_count": 152,
   "metadata": {},
   "outputs": [
    {
     "data": {
      "text/plain": [
       "Text(0, 0.5, 'ASB cell type')"
      ]
     },
     "execution_count": 152,
     "metadata": {},
     "output_type": "execute_result"
    },
    {
     "data": {
      "image/png": "[encoded data removed]",
      "text/plain": [
       "<Figure size 504x504 with 6 Axes>"
      ]
     },
     "metadata": {},
     "output_type": "display_data"
    }
   ],
   "source": [
    "#plot boxplot/violin plot; final scores\n",
    "fig, axes = plt.subplots(6, 1,sharex=True, sharey=True,figsize=(7,7))\n",
    "plt.subplots_adjust(hspace = .2)\n",
    "\n",
    "for i in range(6):\n",
    "    x_preds_df = pd.DataFrame(np.array(x_preds_final[cells[i]]).transpose(),columns=cells)\n",
    "    x_preds_df = x_preds_df.melt()\n",
    "    x_preds_df.columns = ['cell','prediction scores']\n",
    "    sns.violinplot(x='cell',y='prediction scores',data=x_preds_df,ax=axes[i])\n",
    "    axes[i].set_ylabel(cells[i])\n",
    "    axes[i].set_xlabel('')\n",
    "    axes[i].set_ylim(0,1)\n",
    "axes[5].set_xlabel('Cell type-specific predictions')\n",
    "fig.text(0,0.5,'ASB cell type', va='center', ha='center', rotation='vertical', fontsize=plt.rcParams['axes.labelsize'])\n",
    "#fig.tight_layout()"
   ]
  }
 ],
 "metadata": {
  "kernelspec": {
   "display_name": "Python 3",
   "language": "python",
   "name": "python3"
  },
  "language_info": {
   "codemirror_mode": {
    "name": "ipython",
    "version": 3
   },
   "file_extension": ".py",
   "mimetype": "text/x-python",
   "name": "python",
   "nbconvert_exporter": "python",
   "pygments_lexer": "ipython3",
   "version": "3.7.2"
  },
  "toc-autonumbering": true
 },
 "nbformat": 4,
 "nbformat_minor": 2
}
