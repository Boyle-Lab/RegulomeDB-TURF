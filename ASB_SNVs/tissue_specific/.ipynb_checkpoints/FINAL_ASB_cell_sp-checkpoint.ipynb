{
 "cells": [
  {
   "cell_type": "code",
   "execution_count": 1,
   "metadata": {},
   "outputs": [],
   "source": [
    "import numpy as np\n",
    "import pandas as pd"
   ]
  },
  {
   "cell_type": "code",
   "execution_count": 2,
   "metadata": {},
   "outputs": [],
   "source": [
    "from collections import defaultdict"
   ]
  },
  {
   "cell_type": "code",
   "execution_count": 3,
   "metadata": {},
   "outputs": [],
   "source": [
    "import pickle"
   ]
  },
  {
   "cell_type": "code",
   "execution_count": 4,
   "metadata": {},
   "outputs": [],
   "source": [
    "import seaborn as sns"
   ]
  },
  {
   "cell_type": "code",
   "execution_count": 5,
   "metadata": {},
   "outputs": [],
   "source": [
    "import matplotlib\n",
    "import matplotlib.pyplot as plt"
   ]
  },
  {
   "cell_type": "code",
   "execution_count": 6,
   "metadata": {},
   "outputs": [],
   "source": [
    "from sklearn.ensemble import RandomForestClassifier"
   ]
  },
  {
   "cell_type": "code",
   "execution_count": 7,
   "metadata": {},
   "outputs": [],
   "source": [
    "from sklearn.model_selection import StratifiedKFold\n",
    "from sklearn.metrics import average_precision_score, roc_auc_score"
   ]
  },
  {
   "cell_type": "code",
   "execution_count": 8,
   "metadata": {},
   "outputs": [],
   "source": [
    "from sklearn.metrics import confusion_matrix \n",
    "from sklearn.model_selection import train_test_split"
   ]
  },
  {
   "cell_type": "code",
   "execution_count": null,
   "metadata": {},
   "outputs": [],
   "source": [
    "#histone cell sp features:\n",
    "#/data/data_repo/shengchd/rf_training/cell_sp_features_query/histone_mark_cell_sp_features/"
   ]
  },
  {
   "cell_type": "markdown",
   "metadata": {},
   "source": [
    "# Set font style on plots"
   ]
  },
  {
   "cell_type": "code",
   "execution_count": 110,
   "metadata": {},
   "outputs": [],
   "source": [
    "def set_style():\n",
    "    # This sets reasonable defaults for font size for\n",
    "    # a figure that will go in a paper\n",
    "    sns.set_context(\"paper\")\n",
    "    \n",
    "    # Set the font to be serif, rather than sans\n",
    "    sns.set(font='serif')\n",
    "    \n",
    "    # Make the background white, and specify the\n",
    "    # specific font family\n",
    "    sns.set_style(\"white\", {\n",
    "        \"font.family\": \"serif\",\n",
    "        \"font.serif\": [\"Times\", \"Palatino\", \"serif\"]\n",
    "    })"
   ]
  },
  {
   "cell_type": "code",
   "execution_count": 111,
   "metadata": {},
   "outputs": [],
   "source": [
    "set_style()"
   ]
  },
  {
   "cell_type": "markdown",
   "metadata": {},
   "source": [
    "## export editable text on plot"
   ]
  },
  {
   "cell_type": "code",
   "execution_count": 112,
   "metadata": {},
   "outputs": [],
   "source": [
    "matplotlib.rcParams['pdf.fonttype'] = 42\n",
    "matplotlib.rcParams['ps.fonttype'] = 42"
   ]
  },
  {
   "cell_type": "markdown",
   "metadata": {},
   "source": [
    "# Function to reorder alleles for each SNP in order of ref,alt, so can be merged with ChIP signal & funsig dataframe"
   ]
  },
  {
   "cell_type": "code",
   "execution_count": 9,
   "metadata": {},
   "outputs": [],
   "source": [
    "def reorder_alleles(chrom,pos,allele1,allele2):\n",
    "    '''Function to reorder two alleles in order of ref, alt\n",
    "    Args:\n",
    "        chrom (str): query chromosome (e.g. chr1)\n",
    "        pos (int): query position (0-based)\n",
    "        allele1 (str): base of 1st allele (A/C/G/T)\n",
    "        allele2 (str): base of 2nd allele (A/C/G/T)\n",
    "    Returns:\n",
    "        alleles (tuple): two alleles in order of ref, alt\n",
    "    '''\n",
    "    from pyfaidx import Fasta\n",
    "    ref = Fasta('/data/genomes/hg19/seq/hg19.fa',rebuild=False)\n",
    "    \n",
    "    ref_allele = ref[chrom][pos].seq.upper()\n",
    "    if (ref_allele == allele1):\n",
    "        alleles = (allele1,allele2)\n",
    "    elif (ref_allele == allele2):\n",
    "        alleles = (allele2,allele1)\n",
    "    else:\n",
    "        print (chrom + \" \" + str(pos)+ \" no match\")\n",
    "        alleles = (allele1,allele2)\n",
    "    return alleles"
   ]
  },
  {
   "cell_type": "markdown",
   "metadata": {},
   "source": [
    "# Read generic features"
   ]
  },
  {
   "cell_type": "code",
   "execution_count": 12,
   "metadata": {},
   "outputs": [],
   "source": [
    "train_ASB = pd.read_csv('train_ASB_FINAL.txt',sep='\\t')"
   ]
  },
  {
   "cell_type": "code",
   "execution_count": 13,
   "metadata": {},
   "outputs": [
    {
     "data": {
      "text/html": [
       "<div>\n",
       "<style scoped>\n",
       "    .dataframe tbody tr th:only-of-type {\n",
       "        vertical-align: middle;\n",
       "    }\n",
       "\n",
       "    .dataframe tbody tr th {\n",
       "        vertical-align: top;\n",
       "    }\n",
       "\n",
       "    .dataframe thead th {\n",
       "        text-align: right;\n",
       "    }\n",
       "</style>\n",
       "<table border=\"1\" class=\"dataframe\">\n",
       "  <thead>\n",
       "    <tr style=\"text-align: right;\">\n",
       "      <th></th>\n",
       "      <th>chrom</th>\n",
       "      <th>end</th>\n",
       "      <th>ref</th>\n",
       "      <th>alt</th>\n",
       "      <th>label</th>\n",
       "      <th>CHIP</th>\n",
       "      <th>DNASE</th>\n",
       "      <th>PWM</th>\n",
       "      <th>FOOTPRINT</th>\n",
       "      <th>EQTL_2</th>\n",
       "      <th>PWM_matched</th>\n",
       "      <th>FOOTPRINT_matched</th>\n",
       "      <th>IC_change</th>\n",
       "      <th>IC_matched_change</th>\n",
       "      <th>funsig</th>\n",
       "      <th>ChIP_var</th>\n",
       "      <th>ChIP_max</th>\n",
       "      <th>ChIP_quantile1</th>\n",
       "      <th>ChIP_quantile2</th>\n",
       "      <th>ChIP_quantile3</th>\n",
       "    </tr>\n",
       "  </thead>\n",
       "  <tbody>\n",
       "    <tr>\n",
       "      <th>0</th>\n",
       "      <td>chr10</td>\n",
       "      <td>10107267</td>\n",
       "      <td>A</td>\n",
       "      <td>G</td>\n",
       "      <td>1</td>\n",
       "      <td>0</td>\n",
       "      <td>0</td>\n",
       "      <td>1</td>\n",
       "      <td>0</td>\n",
       "      <td>0</td>\n",
       "      <td>0</td>\n",
       "      <td>0</td>\n",
       "      <td>1.99</td>\n",
       "      <td>0.0</td>\n",
       "      <td>0.022459</td>\n",
       "      <td>0.0590</td>\n",
       "      <td>1.86</td>\n",
       "      <td>0.1466</td>\n",
       "      <td>0.2203</td>\n",
       "      <td>0.4275</td>\n",
       "    </tr>\n",
       "    <tr>\n",
       "      <th>1</th>\n",
       "      <td>chr10</td>\n",
       "      <td>101365302</td>\n",
       "      <td>G</td>\n",
       "      <td>A</td>\n",
       "      <td>1</td>\n",
       "      <td>1</td>\n",
       "      <td>1</td>\n",
       "      <td>0</td>\n",
       "      <td>0</td>\n",
       "      <td>0</td>\n",
       "      <td>0</td>\n",
       "      <td>0</td>\n",
       "      <td>0.00</td>\n",
       "      <td>0.0</td>\n",
       "      <td>0.158940</td>\n",
       "      <td>17.3444</td>\n",
       "      <td>65.24</td>\n",
       "      <td>0.1375</td>\n",
       "      <td>0.2330</td>\n",
       "      <td>0.4826</td>\n",
       "    </tr>\n",
       "    <tr>\n",
       "      <th>2</th>\n",
       "      <td>chr10</td>\n",
       "      <td>101844785</td>\n",
       "      <td>A</td>\n",
       "      <td>G</td>\n",
       "      <td>1</td>\n",
       "      <td>1</td>\n",
       "      <td>1</td>\n",
       "      <td>0</td>\n",
       "      <td>0</td>\n",
       "      <td>0</td>\n",
       "      <td>0</td>\n",
       "      <td>0</td>\n",
       "      <td>0.00</td>\n",
       "      <td>0.0</td>\n",
       "      <td>0.004548</td>\n",
       "      <td>47.4364</td>\n",
       "      <td>115.26</td>\n",
       "      <td>0.1359</td>\n",
       "      <td>0.3016</td>\n",
       "      <td>0.7071</td>\n",
       "    </tr>\n",
       "    <tr>\n",
       "      <th>3</th>\n",
       "      <td>chr10</td>\n",
       "      <td>102027407</td>\n",
       "      <td>C</td>\n",
       "      <td>T</td>\n",
       "      <td>1</td>\n",
       "      <td>1</td>\n",
       "      <td>1</td>\n",
       "      <td>1</td>\n",
       "      <td>1</td>\n",
       "      <td>0</td>\n",
       "      <td>0</td>\n",
       "      <td>0</td>\n",
       "      <td>0.00</td>\n",
       "      <td>0.0</td>\n",
       "      <td>0.001705</td>\n",
       "      <td>732.4732</td>\n",
       "      <td>267.98</td>\n",
       "      <td>0.4851</td>\n",
       "      <td>2.1454</td>\n",
       "      <td>8.0536</td>\n",
       "    </tr>\n",
       "    <tr>\n",
       "      <th>4</th>\n",
       "      <td>chr10</td>\n",
       "      <td>102084897</td>\n",
       "      <td>C</td>\n",
       "      <td>T</td>\n",
       "      <td>1</td>\n",
       "      <td>1</td>\n",
       "      <td>1</td>\n",
       "      <td>0</td>\n",
       "      <td>0</td>\n",
       "      <td>0</td>\n",
       "      <td>0</td>\n",
       "      <td>0</td>\n",
       "      <td>0.00</td>\n",
       "      <td>0.0</td>\n",
       "      <td>0.191050</td>\n",
       "      <td>1.7908</td>\n",
       "      <td>20.92</td>\n",
       "      <td>0.0968</td>\n",
       "      <td>0.1992</td>\n",
       "      <td>0.3796</td>\n",
       "    </tr>\n",
       "  </tbody>\n",
       "</table>\n",
       "</div>"
      ],
      "text/plain": [
       "   chrom        end ref alt  label  CHIP  DNASE  PWM  FOOTPRINT  EQTL_2  \\\n",
       "0  chr10   10107267   A   G      1     0      0    1          0       0   \n",
       "1  chr10  101365302   G   A      1     1      1    0          0       0   \n",
       "2  chr10  101844785   A   G      1     1      1    0          0       0   \n",
       "3  chr10  102027407   C   T      1     1      1    1          1       0   \n",
       "4  chr10  102084897   C   T      1     1      1    0          0       0   \n",
       "\n",
       "   PWM_matched  FOOTPRINT_matched  IC_change  IC_matched_change    funsig  \\\n",
       "0            0                  0       1.99                0.0  0.022459   \n",
       "1            0                  0       0.00                0.0  0.158940   \n",
       "2            0                  0       0.00                0.0  0.004548   \n",
       "3            0                  0       0.00                0.0  0.001705   \n",
       "4            0                  0       0.00                0.0  0.191050   \n",
       "\n",
       "   ChIP_var  ChIP_max  ChIP_quantile1  ChIP_quantile2  ChIP_quantile3  \n",
       "0    0.0590      1.86          0.1466          0.2203          0.4275  \n",
       "1   17.3444     65.24          0.1375          0.2330          0.4826  \n",
       "2   47.4364    115.26          0.1359          0.3016          0.7071  \n",
       "3  732.4732    267.98          0.4851          2.1454          8.0536  \n",
       "4    1.7908     20.92          0.0968          0.1992          0.3796  "
      ]
     },
     "execution_count": 13,
     "metadata": {},
     "output_type": "execute_result"
    }
   ],
   "source": [
    "train_ASB.head()"
   ]
  },
  {
   "cell_type": "code",
   "execution_count": 14,
   "metadata": {},
   "outputs": [
    {
     "data": {
      "text/plain": [
       "(14878, 20)"
      ]
     },
     "execution_count": 14,
     "metadata": {},
     "output_type": "execute_result"
    }
   ],
   "source": [
    "train_ASB.shape"
   ]
  },
  {
   "cell_type": "markdown",
   "metadata": {},
   "source": [
    "# Read cell sp features"
   ]
  },
  {
   "cell_type": "code",
   "execution_count": 15,
   "metadata": {},
   "outputs": [],
   "source": [
    "cells = ['GM12878','A549','H1hESC','HepG2','K562','MCF7']"
   ]
  },
  {
   "cell_type": "code",
   "execution_count": 16,
   "metadata": {},
   "outputs": [],
   "source": [
    "df_all_dict = dict()"
   ]
  },
  {
   "cell_type": "code",
   "execution_count": 18,
   "metadata": {},
   "outputs": [],
   "source": [
    "path = '/data/data_repo/shengchd/regulomedb_new_query/ASB_cell_specific_query/'"
   ]
  },
  {
   "cell_type": "code",
   "execution_count": 22,
   "metadata": {},
   "outputs": [
    {
     "name": "stdout",
     "output_type": "stream",
     "text": [
      "GM12878 1844\n",
      "A549 215\n",
      "H1hESC 1460\n",
      "HepG2 2637\n",
      "K562 761\n",
      "MCF7 645\n"
     ]
    }
   ],
   "source": [
    "for cell in cells:\n",
    "    ASB_genotypes = pd.read_csv(path + cell + '.bed',sep='\\t',header = None)\n",
    "    ASB_genotypes.columns = ['chrom','start','end','ref','alt']\n",
    "    #reorder to ref, alt\n",
    "    ASB_genotypes[['ref','alt']] = [reorder_alleles(chrom,pos,allele1,allele2) for  chrom,pos,allele1,allele2 in zip(ASB_genotypes['chrom'],ASB_genotypes['start'],ASB_genotypes['ref'],ASB_genotypes['alt'])]        \n",
    "    ASB_genotypes['cellSp_label'] = 1\n",
    "    df = pd.merge(train_ASB,ASB_genotypes,how='left')\n",
    "    df['cellSp_label'] = df['cellSp_label'].fillna(0)\n",
    "    df['cellSp_label'] = df['cellSp_label'].astype('int64') #if ASB in cell\n",
    "    print (cell,sum(df['cellSp_label']))\n",
    "    df_cellSp = pd.read_csv(path + 'train_ASB_control_added_' + cell + '_cell_sp_features.txt',sep=\"\\t\")\n",
    "    df_cellSp = df_cellSp.drop_duplicates()\n",
    "    df_cellSp_hist = pd.read_csv(path + 'histone_marks/train_ASB_control_added_' + cell + '_cell_sp_hist_features.txt',sep='\\t')\n",
    "    df_cellSp_hist = df_cellSp_hist.drop_duplicates()\n",
    "    df_all = pd.merge(df,df_cellSp)\n",
    "    df_all = pd.merge(df_all,df_cellSp_hist)\n",
    "    df_all_dict[cell] = df_all"
   ]
  },
  {
   "cell_type": "markdown",
   "metadata": {},
   "source": [
    "## Output FINAL cell sp features (dict of dataframe)"
   ]
  },
  {
   "cell_type": "code",
   "execution_count": 25,
   "metadata": {},
   "outputs": [],
   "source": [
    "pickle.dump(df_all_dict,open('df_cell_sp_all_FINAL.pkl','wb'))"
   ]
  },
  {
   "cell_type": "code",
   "execution_count": 307,
   "metadata": {},
   "outputs": [
    {
     "data": {
      "text/plain": [
       "Index(['chrom', 'end', 'ref', 'alt', 'label', 'CHIP', 'DNASE', 'PWM',\n",
       "       'FOOTPRINT', 'EQTL_2', 'PWM_matched', 'FOOTPRINT_matched', 'IC_change',\n",
       "       'IC_matched_change', 'funsig', 'ChIP_var', 'ChIP_max', 'ChIP_quantile1',\n",
       "       'ChIP_quantile2', 'ChIP_quantile3', 'start', 'cellSp_label',\n",
       "       'CHIP_cellSp', 'DNASE_cellSp', 'FOOTPRINT_cellSp', 'EQTL_2_cellSp',\n",
       "       'PWM_matched_cellSp', 'FOOTPRINT_matched_cellSp', 'IC_matched_cellSp',\n",
       "       'H2AFZ_cellSp', 'H2AK5ac_cellSp', 'H2AK9ac_cellSp', 'H2BK120ac_cellSp',\n",
       "       'H2BK12ac_cellSp', 'H2BK15ac_cellSp', 'H2BK20ac_cellSp',\n",
       "       'H2BK5ac_cellSp', 'H3F3A_cellSp', 'H3K14ac_cellSp', 'H3K18ac_cellSp',\n",
       "       'H3K23ac_cellSp', 'H3K23me2_cellSp', 'H3K27ac_cellSp',\n",
       "       'H3K27me3_cellSp', 'H3K36me3_cellSp', 'H3K4ac_cellSp', 'H3K4me1_cellSp',\n",
       "       'H3K4me2_cellSp', 'H3K4me3_cellSp', 'H3K56ac_cellSp', 'H3K79me1_cellSp',\n",
       "       'H3K79me2_cellSp', 'H3K9ac_cellSp', 'H3K9me1_cellSp', 'H3K9me2_cellSp',\n",
       "       'H3K9me3_cellSp', 'H3T11ph_cellSp', 'H4K12ac_cellSp', 'H4K20me1_cellSp',\n",
       "       'H4K5ac_cellSp', 'H4K8ac_cellSp', 'H4K91ac_cellSp'],\n",
       "      dtype='object')"
      ]
     },
     "execution_count": 307,
     "metadata": {},
     "output_type": "execute_result"
    }
   ],
   "source": [
    "df_all.columns"
   ]
  },
  {
   "cell_type": "code",
   "execution_count": 309,
   "metadata": {},
   "outputs": [],
   "source": [
    "for cell in df_all_dict.keys():\n",
    "    df_all = df_all_dict[cell]\n",
    "    df_all[['chrom','end','ref','alt','cellSp_label'] + features_names_cell_sp].to_csv('train_ASB_cellSp_features_' + cell + '.txt',sep='\\t',index=False)"
   ]
  },
  {
   "cell_type": "markdown",
   "metadata": {},
   "source": [
    "# Read generic rf"
   ]
  },
  {
   "cell_type": "code",
   "execution_count": 30,
   "metadata": {},
   "outputs": [],
   "source": [
    "filename = 'ASB_rf_IC_change_add_control.sav'\n",
    "clf_generic = pickle.load(open(filename,'rb'))"
   ]
  },
  {
   "cell_type": "code",
   "execution_count": 31,
   "metadata": {},
   "outputs": [],
   "source": [
    "#generic features\n",
    "features = ['CHIP','DNASE','PWM','FOOTPRINT','EQTL_2','PWM_matched','FOOTPRINT_matched','IC_change','IC_matched_change','funsig','ChIP_var','ChIP_max','ChIP_quantile1','ChIP_quantile2','ChIP_quantile3']"
   ]
  },
  {
   "cell_type": "code",
   "execution_count": 292,
   "metadata": {},
   "outputs": [],
   "source": [
    "df_all = df_all_dict['A549'] #use one union set as representative"
   ]
  },
  {
   "cell_type": "code",
   "execution_count": 33,
   "metadata": {},
   "outputs": [],
   "source": [
    "y_scores = clf_generic.predict_proba(df_all[features])[:,1] #generic scores, same order for all cells"
   ]
  },
  {
   "cell_type": "markdown",
   "metadata": {},
   "source": [
    "# cellSp rf = generic * cellSp features"
   ]
  },
  {
   "cell_type": "code",
   "execution_count": 306,
   "metadata": {},
   "outputs": [],
   "source": [
    "#removed H3K9me3\n",
    "features_names_cell_sp = ['H2AFZ_cellSp',\n",
    " 'H3K27ac_cellSp',\n",
    " 'H3K27me3_cellSp',\n",
    " 'H3K36me3_cellSp',\n",
    " 'H3K4me1_cellSp',\n",
    " 'H3K4me2_cellSp',\n",
    " 'H3K4me3_cellSp',\n",
    " 'H3K79me2_cellSp',\n",
    " 'H3K9ac_cellSp',\n",
    " 'H4K20me1_cellSp',\n",
    " 'DNASE_cellSp',\n",
    " 'FOOTPRINT_cellSp']"
   ]
  },
  {
   "cell_type": "code",
   "execution_count": 37,
   "metadata": {},
   "outputs": [],
   "source": [
    "clf_cellSp=RandomForestClassifier(class_weight='balanced',n_estimators=100,random_state=100,oob_score=True)"
   ]
  },
  {
   "cell_type": "code",
   "execution_count": 38,
   "metadata": {},
   "outputs": [],
   "source": [
    "fold = 5\n",
    "cv = StratifiedKFold(n_splits=fold,shuffle=True,random_state=42)"
   ]
  },
  {
   "cell_type": "code",
   "execution_count": 39,
   "metadata": {},
   "outputs": [
    {
     "name": "stdout",
     "output_type": "stream",
     "text": [
      "GM12878\n",
      "AUPR\n",
      "generic 0.284\n",
      "cellsp_only 0.358\n",
      "cellsp 0.51\n",
      "ROCAUC\n",
      "generic 0.822\n",
      "cellsp_only 0.762\n",
      "cellsp 0.882\n",
      "COR\n",
      "generic 0.39\n",
      "cellsp_only 0.385\n",
      "cellsp 0.537\n",
      "A549\n",
      "AUPR\n",
      "generic 0.158\n",
      "cellsp_only 0.215\n",
      "cellsp 0.315\n",
      "ROCAUC\n",
      "generic 0.796\n",
      "cellsp_only 0.737\n",
      "cellsp 0.833\n",
      "COR\n",
      "generic 0.256\n",
      "cellsp_only 0.266\n",
      "cellsp 0.369\n",
      "H1hESC\n",
      "AUPR\n",
      "generic 0.182\n",
      "cellsp_only 0.229\n",
      "cellsp 0.333\n",
      "ROCAUC\n",
      "generic 0.8\n",
      "cellsp_only 0.733\n",
      "cellsp 0.838\n",
      "COR\n",
      "generic 0.284\n",
      "cellsp_only 0.275\n",
      "cellsp 0.388\n",
      "HepG2\n",
      "AUPR\n",
      "generic 0.221\n",
      "cellsp_only 0.234\n",
      "cellsp 0.353\n",
      "ROCAUC\n",
      "generic 0.797\n",
      "cellsp_only 0.697\n",
      "cellsp 0.831\n",
      "COR\n",
      "generic 0.323\n",
      "cellsp_only 0.241\n",
      "cellsp 0.401\n",
      "K562\n",
      "AUPR\n",
      "generic 0.193\n",
      "cellsp_only 0.209\n",
      "cellsp 0.313\n",
      "ROCAUC\n",
      "generic 0.782\n",
      "cellsp_only 0.682\n",
      "cellsp 0.815\n",
      "COR\n",
      "generic 0.301\n",
      "cellsp_only 0.213\n",
      "cellsp 0.366\n",
      "MCF7\n",
      "AUPR\n",
      "generic 0.178\n",
      "cellsp_only 0.192\n",
      "cellsp 0.286\n",
      "ROCAUC\n",
      "generic 0.78\n",
      "cellsp_only 0.683\n",
      "cellsp 0.81\n",
      "COR\n",
      "generic 0.286\n",
      "cellsp_only 0.203\n",
      "cellsp 0.345\n"
     ]
    }
   ],
   "source": [
    "roc_aucs = defaultdict(list)\n",
    "ave_prs = defaultdict(list)\n",
    "cors = defaultdict(list)\n",
    "for cell in cells:\n",
    "    print (cell)\n",
    "    df_all = df_all_dict[cell]\n",
    "    x = np.array(df_all[features_names_cell_sp])\n",
    "    y = df_all['cellSp_label']\n",
    "    for train, test in cv.split(x,y):\n",
    "        y_1 = y_scores[test] #generic score from generic clf\n",
    "        y_2 = clf_cellSp.fit(x[train], y[train]).predict_proba(x[test])[:,1]\n",
    "        y_true = y[test]\n",
    "        roc_aucs['generic'].append(roc_auc_score(y_true, y_1))\n",
    "        roc_aucs['cellsp_only'].append(roc_auc_score(y_true, y_2))\n",
    "        roc_aucs['cellsp'].append(roc_auc_score(y_true, y_1 * y_2))\n",
    "        ave_prs['generic'].append(average_precision_score(y_true, y_1))\n",
    "        ave_prs['cellsp_only'].append(average_precision_score(y_true, y_2))\n",
    "        ave_prs['cellsp'].append(average_precision_score(y_true, y_1 * y_2))\n",
    "        cors['generic'].append(np.corrcoef(y_1,y_true)[0,1])\n",
    "        cors['cellsp_only'].append(np.corrcoef(y_2,y_true)[0,1])\n",
    "        cors['cellsp'].append(np.corrcoef(y_1 * y_2,y_true)[0,1])\n",
    "    print ('AUPR')\n",
    "    for model in ave_prs.keys():\n",
    "        print (model,np.round(np.mean(np.array(ave_prs[model])),3))\n",
    "    print ('ROCAUC')\n",
    "    for model in roc_aucs.keys():\n",
    "        print (model,np.round(np.mean(np.array(roc_aucs[model])),3))\n",
    "    print ('COR')\n",
    "    for model in cors.keys():\n",
    "        print (model,np.round(np.mean(np.array(cors[model])),3))\n",
    "        #importance = clf_cellSp.feature_importances_\n",
    "        #features_imp = {'feature':features_names_cell_sp,'importance':list(importance)}\n",
    "        #print(pd.DataFrame(features_imp).sort_values(by=['importance'],ascending=False))"
   ]
  },
  {
   "cell_type": "markdown",
   "metadata": {},
   "source": [
    "# Check cell sp features importance in each cell"
   ]
  },
  {
   "cell_type": "code",
   "execution_count": 53,
   "metadata": {},
   "outputs": [],
   "source": [
    "#removed H3K9me3\n",
    "features_names_cell_sp = ['H2AFZ_cellSp',\n",
    " 'H3K27ac_cellSp',\n",
    " 'H3K27me3_cellSp',\n",
    " 'H3K36me3_cellSp',\n",
    " 'H3K4me1_cellSp',\n",
    " 'H3K4me2_cellSp',\n",
    " 'H3K4me3_cellSp',\n",
    " 'H3K79me2_cellSp',\n",
    " 'H3K9ac_cellSp',\n",
    " 'H4K20me1_cellSp',\n",
    " 'DNASE_cellSp',\n",
    " 'FOOTPRINT_cellSp']"
   ]
  },
  {
   "cell_type": "code",
   "execution_count": 54,
   "metadata": {},
   "outputs": [],
   "source": [
    "cells = ['GM12878','A549','H1hESC','HepG2','K562','MCF7']"
   ]
  },
  {
   "cell_type": "code",
   "execution_count": 55,
   "metadata": {},
   "outputs": [],
   "source": [
    "import re"
   ]
  },
  {
   "cell_type": "code",
   "execution_count": null,
   "metadata": {},
   "outputs": [],
   "source": [
    "for cell in cells:\n",
    "    df_all = df_all_dict[cell]\n",
    "\n",
    "    df_features = df_all[features_names_cell_sp]\n",
    "    df_labels = df_all['cellSp_label']\n",
    "    df_cor = df_features.apply(lambda x: x.corr(df_all['cellSp_label'])).reset_index()\n",
    "    df_cor.columns = ['feature','correlation']\n",
    "    df_cor = df_cor.sort_values(by = 'correlation',ascending=False)\n",
    "    df_cor['feature'] = [re.sub('_cellSp','',x) for x in df_cor['feature']]\n",
    "\n",
    "    fig,ax = plt.subplots(figsize=(12,4))\n",
    "    sns.barplot(x='feature',y='correlation',data=df_cor,ax=ax)\n",
    "    for bar in ax.patches:\n",
    "        if bar.get_height() > 0:\n",
    "            bar.set_color('skyblue')    \n",
    "        else:\n",
    "            bar.set_color('red')\n",
    "    ax.set_title(cell)\n",
    "    fig.savefig('plots/ASB_cell_sp_barplot_' + cell + '.pdf',dpi=300)"
   ]
  },
  {
   "cell_type": "code",
   "execution_count": 151,
   "metadata": {},
   "outputs": [],
   "source": [
    "sns.set_style(\"whitegrid\") #set white background & with grid"
   ]
  },
  {
   "cell_type": "code",
   "execution_count": 167,
   "metadata": {},
   "outputs": [
    {
     "data": {
      "image/png": "[encoded data removed]",
      "text/plain": [
       "<Figure size 864x864 with 6 Axes>"
      ]
     },
     "metadata": {},
     "output_type": "display_data"
    }
   ],
   "source": [
    "fig,axes = plt.subplots(6,1,figsize=(12,12))\n",
    "\n",
    "for i in range(6):\n",
    "    cell = cells[i]\n",
    "    df_all = df_all_dict[cell]\n",
    "\n",
    "    df_features = df_all[features_names_cell_sp]\n",
    "    df_labels = df_all['cellSp_label']\n",
    "    df_cor = df_features.apply(lambda x: x.corr(df_all['cellSp_label'])).reset_index()\n",
    "    df_cor.columns = ['feature','correlation']\n",
    "    df_cor = df_cor.sort_values(by = 'correlation',ascending=False)\n",
    "    df_cor['feature'] = [re.sub('_cellSp','',x) for x in df_cor['feature']]\n",
    "    sns.barplot(x='feature',y='correlation',data=df_cor,ax=axes[i])\n",
    "    for bar in axes[i].patches:\n",
    "        if bar.get_height() > 0:\n",
    "            bar.set_color('skyblue')    \n",
    "        else:\n",
    "            bar.set_color('red')\n",
    "    axes[i].set_title(cell)\n",
    "    axes[i].set_xlabel('')\n",
    "    axes[i].set_ylabel('')\n",
    "fig.tight_layout()\n",
    "fig.savefig('plots/ASB_cell_sp_features_barplot.pdf',dpi=300)"
   ]
  },
  {
   "cell_type": "markdown",
   "metadata": {},
   "source": [
    "## Use final 5 histone marks"
   ]
  },
  {
   "cell_type": "code",
   "execution_count": 42,
   "metadata": {},
   "outputs": [],
   "source": [
    "#Use less histone marks\n",
    "features_names_cell_sp_2 = ['H3K27ac_cellSp',\n",
    " 'H3K36me3_cellSp',\n",
    " 'H3K4me1_cellSp',\n",
    " 'H3K4me3_cellSp',\n",
    " 'H3K27me3_cellSp',\n",
    " 'DNASE_cellSp',\n",
    " 'FOOTPRINT_cellSp']"
   ]
  },
  {
   "cell_type": "code",
   "execution_count": 43,
   "metadata": {},
   "outputs": [
    {
     "name": "stdout",
     "output_type": "stream",
     "text": [
      "GM12878\n",
      "AUPR\n",
      "generic 0.284\n",
      "cellsp_only 0.356\n",
      "cellsp 0.511\n",
      "ROCAUC\n",
      "generic 0.822\n",
      "cellsp_only 0.772\n",
      "cellsp 0.894\n",
      "COR\n",
      "generic 0.39\n",
      "cellsp_only 0.392\n",
      "cellsp 0.538\n",
      "A549\n",
      "AUPR\n",
      "generic 0.158\n",
      "cellsp_only 0.214\n",
      "cellsp 0.313\n",
      "ROCAUC\n",
      "generic 0.796\n",
      "cellsp_only 0.774\n",
      "cellsp 0.872\n",
      "COR\n",
      "generic 0.256\n",
      "cellsp_only 0.272\n",
      "cellsp 0.369\n",
      "H1hESC\n",
      "AUPR\n",
      "generic 0.182\n",
      "cellsp_only 0.229\n",
      "cellsp 0.335\n",
      "ROCAUC\n",
      "generic 0.8\n",
      "cellsp_only 0.763\n",
      "cellsp 0.871\n",
      "COR\n",
      "generic 0.284\n",
      "cellsp_only 0.287\n",
      "cellsp 0.392\n",
      "HepG2\n",
      "AUPR\n",
      "generic 0.221\n",
      "cellsp_only 0.236\n",
      "cellsp 0.355\n",
      "ROCAUC\n",
      "generic 0.797\n",
      "cellsp_only 0.722\n",
      "cellsp 0.857\n",
      "COR\n",
      "generic 0.323\n",
      "cellsp_only 0.257\n",
      "cellsp 0.406\n",
      "K562\n",
      "AUPR\n",
      "generic 0.193\n",
      "cellsp_only 0.209\n",
      "cellsp 0.316\n",
      "ROCAUC\n",
      "generic 0.782\n",
      "cellsp_only 0.713\n",
      "cellsp 0.847\n",
      "COR\n",
      "generic 0.301\n",
      "cellsp_only 0.236\n",
      "cellsp 0.376\n",
      "MCF7\n",
      "AUPR\n",
      "generic 0.178\n",
      "cellsp_only 0.192\n",
      "cellsp 0.289\n",
      "ROCAUC\n",
      "generic 0.78\n",
      "cellsp_only 0.716\n",
      "cellsp 0.843\n",
      "COR\n",
      "generic 0.286\n",
      "cellsp_only 0.228\n",
      "cellsp 0.357\n"
     ]
    }
   ],
   "source": [
    "roc_aucs = defaultdict(list)\n",
    "ave_prs = defaultdict(list)\n",
    "cors = defaultdict(list)\n",
    "for cell in cells:\n",
    "    print (cell)\n",
    "    df_all = df_all_dict[cell]\n",
    "    x = np.array(df_all[features_names_cell_sp_2])\n",
    "    y = df_all['cellSp_label']\n",
    "    for train, test in cv.split(x,y):\n",
    "        y_1 = y_scores[test] #generic score from generic clf\n",
    "        y_2 = clf_cellSp.fit(x[train], y[train]).predict_proba(x[test])[:,1]\n",
    "        y_true = y[test]\n",
    "        roc_aucs['generic'].append(roc_auc_score(y_true, y_1))\n",
    "        roc_aucs['cellsp_only'].append(roc_auc_score(y_true, y_2))\n",
    "        roc_aucs['cellsp'].append(roc_auc_score(y_true, y_1 * y_2))\n",
    "        ave_prs['generic'].append(average_precision_score(y_true, y_1))\n",
    "        ave_prs['cellsp_only'].append(average_precision_score(y_true, y_2))\n",
    "        ave_prs['cellsp'].append(average_precision_score(y_true, y_1 * y_2))\n",
    "        cors['generic'].append(np.corrcoef(y_1,y_true)[0,1])\n",
    "        cors['cellsp_only'].append(np.corrcoef(y_2,y_true)[0,1])\n",
    "        cors['cellsp'].append(np.corrcoef(y_1 * y_2,y_true)[0,1])\n",
    "    print ('AUPR')\n",
    "    for model in ave_prs.keys():\n",
    "        print (model,np.round(np.mean(np.array(ave_prs[model])),3))\n",
    "    print ('ROCAUC')\n",
    "    for model in roc_aucs.keys():\n",
    "        print (model,np.round(np.mean(np.array(roc_aucs[model])),3))\n",
    "    print ('COR')\n",
    "    for model in cors.keys():\n",
    "        print (model,np.round(np.mean(np.array(cors[model])),3))\n",
    "    #importance = clf_cellSp.feature_importances_\n",
    "    #features_imp = {'feature':features_names_cell_sp_2,'importance':list(importance)}\n",
    "    #print(pd.DataFrame(features_imp).sort_values(by=['importance'],ascending=False))"
   ]
  },
  {
   "cell_type": "code",
   "execution_count": 45,
   "metadata": {},
   "outputs": [
    {
     "data": {
      "text/plain": [
       "0.5914"
      ]
     },
     "execution_count": 45,
     "metadata": {},
     "output_type": "execute_result"
    }
   ],
   "source": [
    "get_GenoNet_score('chr22',18482575,'E025')"
   ]
  },
  {
   "cell_type": "markdown",
   "metadata": {},
   "source": [
    "# Performance comparisons"
   ]
  },
  {
   "cell_type": "markdown",
   "metadata": {},
   "source": [
    "## GenoNet precalculated scores"
   ]
  },
  {
   "cell_type": "code",
   "execution_count": 176,
   "metadata": {},
   "outputs": [],
   "source": [
    "def get_GenoNet_score(chrom,pos,cell,path='/data/data_repo/shengchd/Data_resource/GenoNet/precalculated_scores/'):\n",
    "    '''Function to get GenoNet precalculated scores in a specific cell/tissue from indexed bed files\n",
    "    Args:\n",
    "        chrom (str): query chromosome (e.g. 'chr1')\n",
    "        pos (int): query position (0-based)\n",
    "        cell (int): query Roadmap cell/tissue code (e.g. 'E001')\n",
    "    Returns:\n",
    "        score (float): GenoNet precalculated score on query position in query cell/tissue\n",
    "    '''\n",
    "    import tabix\n",
    "    import re\n",
    "    #Roadmap cell/tissue code -> column number\n",
    "    cells = ['E' + str(i).zfill(3) for i in range(130)]\n",
    "    #remove unassigned codes\n",
    "    cells.remove('E000')\n",
    "    cells.remove('E060')\n",
    "    cells.remove('E064')\n",
    "    \n",
    "    score = 0 #if not available, return 0\n",
    "    if re.sub('chr','',chrom) in [str(i) for i in range(1,23)]: #only available for chr1..22\n",
    "        file = path + 'GenoNet_' +  re.sub('chr','',chrom) + '.bed.gz'\n",
    "        tb = tabix.open(file)\n",
    "        records = tb.query(chrom,pos,pos+1)\n",
    "\n",
    "        scores = []\n",
    "        column_num = 4 + cells.index(cell)\n",
    "        for record in records: #should be only one record for a single position\n",
    "            scores.append(record[column_num])\n",
    "        if len(scores) > 1:\n",
    "            print ('Error: multiple hits',pos)\n",
    "        else:\n",
    "            score = float(scores[0])\n",
    "    return score"
   ]
  },
  {
   "cell_type": "code",
   "execution_count": 177,
   "metadata": {},
   "outputs": [],
   "source": [
    "cells_roadmap_code = ['E114','E116','E118','E123']"
   ]
  },
  {
   "cell_type": "code",
   "execution_count": 178,
   "metadata": {},
   "outputs": [],
   "source": [
    "cells_roadmap = ['A549','GM12878','HepG2','K562']"
   ]
  },
  {
   "cell_type": "code",
   "execution_count": 179,
   "metadata": {},
   "outputs": [],
   "source": [
    "clf_cellSp=RandomForestClassifier(class_weight='balanced',n_estimators=100,random_state=100,oob_score=True)"
   ]
  },
  {
   "cell_type": "code",
   "execution_count": 180,
   "metadata": {},
   "outputs": [],
   "source": [
    "fold = 5\n",
    "cv = StratifiedKFold(n_splits=fold,shuffle=True,random_state=42)"
   ]
  },
  {
   "cell_type": "code",
   "execution_count": 181,
   "metadata": {},
   "outputs": [
    {
     "data": {
      "text/html": [
       "<div>\n",
       "<style scoped>\n",
       "    .dataframe tbody tr th:only-of-type {\n",
       "        vertical-align: middle;\n",
       "    }\n",
       "\n",
       "    .dataframe tbody tr th {\n",
       "        vertical-align: top;\n",
       "    }\n",
       "\n",
       "    .dataframe thead th {\n",
       "        text-align: right;\n",
       "    }\n",
       "</style>\n",
       "<table border=\"1\" class=\"dataframe\">\n",
       "  <thead>\n",
       "    <tr style=\"text-align: right;\">\n",
       "      <th></th>\n",
       "      <th>chrom</th>\n",
       "      <th>end</th>\n",
       "      <th>ref</th>\n",
       "      <th>alt</th>\n",
       "      <th>label</th>\n",
       "      <th>CHIP</th>\n",
       "      <th>DNASE</th>\n",
       "      <th>PWM</th>\n",
       "      <th>FOOTPRINT</th>\n",
       "      <th>EQTL_2</th>\n",
       "      <th>...</th>\n",
       "      <th>H3K9me1_cellSp</th>\n",
       "      <th>H3K9me2_cellSp</th>\n",
       "      <th>H3K9me3_cellSp</th>\n",
       "      <th>H3T11ph_cellSp</th>\n",
       "      <th>H4K12ac_cellSp</th>\n",
       "      <th>H4K20me1_cellSp</th>\n",
       "      <th>H4K5ac_cellSp</th>\n",
       "      <th>H4K8ac_cellSp</th>\n",
       "      <th>H4K91ac_cellSp</th>\n",
       "      <th>GenoNet</th>\n",
       "    </tr>\n",
       "  </thead>\n",
       "  <tbody>\n",
       "    <tr>\n",
       "      <th>0</th>\n",
       "      <td>chr10</td>\n",
       "      <td>10107267</td>\n",
       "      <td>A</td>\n",
       "      <td>G</td>\n",
       "      <td>1</td>\n",
       "      <td>0</td>\n",
       "      <td>0</td>\n",
       "      <td>1</td>\n",
       "      <td>0</td>\n",
       "      <td>0</td>\n",
       "      <td>...</td>\n",
       "      <td>0</td>\n",
       "      <td>0</td>\n",
       "      <td>0</td>\n",
       "      <td>0</td>\n",
       "      <td>0</td>\n",
       "      <td>0</td>\n",
       "      <td>0</td>\n",
       "      <td>0</td>\n",
       "      <td>0</td>\n",
       "      <td>0.0235</td>\n",
       "    </tr>\n",
       "    <tr>\n",
       "      <th>1</th>\n",
       "      <td>chr10</td>\n",
       "      <td>101365302</td>\n",
       "      <td>G</td>\n",
       "      <td>A</td>\n",
       "      <td>1</td>\n",
       "      <td>1</td>\n",
       "      <td>1</td>\n",
       "      <td>0</td>\n",
       "      <td>0</td>\n",
       "      <td>0</td>\n",
       "      <td>...</td>\n",
       "      <td>0</td>\n",
       "      <td>0</td>\n",
       "      <td>0</td>\n",
       "      <td>0</td>\n",
       "      <td>0</td>\n",
       "      <td>0</td>\n",
       "      <td>0</td>\n",
       "      <td>0</td>\n",
       "      <td>0</td>\n",
       "      <td>0.0306</td>\n",
       "    </tr>\n",
       "    <tr>\n",
       "      <th>2</th>\n",
       "      <td>chr10</td>\n",
       "      <td>101844785</td>\n",
       "      <td>A</td>\n",
       "      <td>G</td>\n",
       "      <td>1</td>\n",
       "      <td>1</td>\n",
       "      <td>1</td>\n",
       "      <td>0</td>\n",
       "      <td>0</td>\n",
       "      <td>0</td>\n",
       "      <td>...</td>\n",
       "      <td>0</td>\n",
       "      <td>0</td>\n",
       "      <td>0</td>\n",
       "      <td>0</td>\n",
       "      <td>0</td>\n",
       "      <td>0</td>\n",
       "      <td>0</td>\n",
       "      <td>0</td>\n",
       "      <td>0</td>\n",
       "      <td>0.0384</td>\n",
       "    </tr>\n",
       "    <tr>\n",
       "      <th>3</th>\n",
       "      <td>chr10</td>\n",
       "      <td>102027407</td>\n",
       "      <td>C</td>\n",
       "      <td>T</td>\n",
       "      <td>1</td>\n",
       "      <td>1</td>\n",
       "      <td>1</td>\n",
       "      <td>1</td>\n",
       "      <td>1</td>\n",
       "      <td>0</td>\n",
       "      <td>...</td>\n",
       "      <td>0</td>\n",
       "      <td>0</td>\n",
       "      <td>0</td>\n",
       "      <td>0</td>\n",
       "      <td>0</td>\n",
       "      <td>0</td>\n",
       "      <td>0</td>\n",
       "      <td>0</td>\n",
       "      <td>0</td>\n",
       "      <td>1.0000</td>\n",
       "    </tr>\n",
       "    <tr>\n",
       "      <th>4</th>\n",
       "      <td>chr10</td>\n",
       "      <td>102084897</td>\n",
       "      <td>C</td>\n",
       "      <td>T</td>\n",
       "      <td>1</td>\n",
       "      <td>1</td>\n",
       "      <td>1</td>\n",
       "      <td>0</td>\n",
       "      <td>0</td>\n",
       "      <td>0</td>\n",
       "      <td>...</td>\n",
       "      <td>0</td>\n",
       "      <td>0</td>\n",
       "      <td>0</td>\n",
       "      <td>0</td>\n",
       "      <td>0</td>\n",
       "      <td>0</td>\n",
       "      <td>0</td>\n",
       "      <td>0</td>\n",
       "      <td>0</td>\n",
       "      <td>0.0227</td>\n",
       "    </tr>\n",
       "  </tbody>\n",
       "</table>\n",
       "<p>5 rows × 63 columns</p>\n",
       "</div>"
      ],
      "text/plain": [
       "   chrom        end ref alt  label  CHIP  DNASE  PWM  FOOTPRINT  EQTL_2  ...  \\\n",
       "0  chr10   10107267   A   G      1     0      0    1          0       0  ...   \n",
       "1  chr10  101365302   G   A      1     1      1    0          0       0  ...   \n",
       "2  chr10  101844785   A   G      1     1      1    0          0       0  ...   \n",
       "3  chr10  102027407   C   T      1     1      1    1          1       0  ...   \n",
       "4  chr10  102084897   C   T      1     1      1    0          0       0  ...   \n",
       "\n",
       "   H3K9me1_cellSp  H3K9me2_cellSp  H3K9me3_cellSp  H3T11ph_cellSp  \\\n",
       "0               0               0               0               0   \n",
       "1               0               0               0               0   \n",
       "2               0               0               0               0   \n",
       "3               0               0               0               0   \n",
       "4               0               0               0               0   \n",
       "\n",
       "   H4K12ac_cellSp  H4K20me1_cellSp  H4K5ac_cellSp  H4K8ac_cellSp  \\\n",
       "0               0                0              0              0   \n",
       "1               0                0              0              0   \n",
       "2               0                0              0              0   \n",
       "3               0                0              0              0   \n",
       "4               0                0              0              0   \n",
       "\n",
       "   H4K91ac_cellSp  GenoNet  \n",
       "0               0   0.0235  \n",
       "1               0   0.0306  \n",
       "2               0   0.0384  \n",
       "3               0   1.0000  \n",
       "4               0   0.0227  \n",
       "\n",
       "[5 rows x 63 columns]"
      ]
     },
     "execution_count": 181,
     "metadata": {},
     "output_type": "execute_result"
    }
   ],
   "source": [
    "df_all_dict['GM12878'].head()"
   ]
  },
  {
   "cell_type": "code",
   "execution_count": 182,
   "metadata": {},
   "outputs": [],
   "source": [
    "for code,cell in zip(cells_roadmap_code,cells_roadmap):\n",
    "    df_all_dict[cell]['GenoNet'] = [get_GenoNet_score(chrom,end-1,code) for chrom,end in zip(df_all_dict[cell]['chrom'],df_all_dict[cell]['end'])]"
   ]
  },
  {
   "cell_type": "code",
   "execution_count": 183,
   "metadata": {},
   "outputs": [
    {
     "name": "stdout",
     "output_type": "stream",
     "text": [
      "A549\n",
      "0.69 0.03 0.094\n",
      "GM12878\n",
      "0.685 0.129 0.158\n",
      "HepG2\n",
      "0.654 0.161 0.134\n",
      "K562\n",
      "0.644 0.14 0.113\n"
     ]
    }
   ],
   "source": [
    "roc_aucs = []\n",
    "ave_prs = []\n",
    "cors = []\n",
    "for cell in cells_roadmap:\n",
    "    print (cell)\n",
    "    df_all = df_all_dict[cell]\n",
    "    x = np.array(df_all[features_names_cell_sp])\n",
    "    y = df_all['cellSp_label']\n",
    "    y_GenoNet = df_all['GenoNet']\n",
    "    for train, test in cv.split(x,y):\n",
    "        y_score = y_GenoNet[test]\n",
    "        y_true = y[test]\n",
    "        roc_aucs.append(roc_auc_score(y_true, y_score))\n",
    "        ave_prs.append(average_precision_score(y_true, y_score))\n",
    "        cors.append(np.corrcoef(y_score,y_true)[0,1])\n",
    "    print (np.round(np.mean(np.array(roc_aucs)),3),np.round(np.mean(np.array(ave_prs)),3),np.round(np.mean(np.array(cors)),3))"
   ]
  },
  {
   "cell_type": "code",
   "execution_count": 196,
   "metadata": {},
   "outputs": [
    {
     "name": "stdout",
     "output_type": "stream",
     "text": [
      "A549\n",
      "0.6902865779869914\n",
      "GM12878\n",
      "0.679105677059531\n",
      "HepG2\n",
      "0.5937288188048165\n",
      "K562\n",
      "0.6152264950776954\n"
     ]
    }
   ],
   "source": [
    "for cell in cells_roadmap:\n",
    "    print (cell)\n",
    "    df_all = df_all_dict[cell]\n",
    "    x = np.array(df_all[features_names_cell_sp])\n",
    "    y = df_all['cellSp_label']\n",
    "    y_GenoNet = df_all['GenoNet']\n",
    "    print (roc_auc_score(y, y_GenoNet))"
   ]
  },
  {
   "cell_type": "markdown",
   "metadata": {},
   "source": [
    "## GenoSkyline"
   ]
  },
  {
   "cell_type": "code",
   "execution_count": 169,
   "metadata": {},
   "outputs": [],
   "source": [
    "import pyBigWig"
   ]
  },
  {
   "cell_type": "code",
   "execution_count": 168,
   "metadata": {},
   "outputs": [],
   "source": [
    "path = '/data/data_repo/shengchd/Data_resource/GenoSkyline/'"
   ]
  },
  {
   "cell_type": "code",
   "execution_count": 171,
   "metadata": {},
   "outputs": [],
   "source": [
    "bw = pyBigWig.open(path + 'Roadmap_E116.bw')"
   ]
  },
  {
   "cell_type": "code",
   "execution_count": 174,
   "metadata": {},
   "outputs": [
    {
     "data": {
      "text/plain": [
       "0.9999977946281433"
      ]
     },
     "execution_count": 174,
     "metadata": {},
     "output_type": "execute_result"
    }
   ],
   "source": [
    "bw.values('chr1',10003320-1,10003320)[0]"
   ]
  },
  {
   "cell_type": "code",
   "execution_count": 209,
   "metadata": {},
   "outputs": [],
   "source": [
    "bw.close()"
   ]
  },
  {
   "cell_type": "code",
   "execution_count": 182,
   "metadata": {},
   "outputs": [],
   "source": [
    "for code,cell in zip(cells_roadmap_code,cells_roadmap):\n",
    "    df_all_dict[cell]['GenoSkyline'] = [get_GenoNet_score(chrom,end-1,code) for chrom,end in zip(df_all_dict[cell]['chrom'],df_all_dict[cell]['end'])]"
   ]
  },
  {
   "cell_type": "code",
   "execution_count": null,
   "metadata": {},
   "outputs": [],
   "source": [
    "y = df_all['cellSp_label']\n",
    "for chrom,end in zip(df_all['chrom'],df_all['end']):\n",
    "    if chrom =='chr20'\n",
    "    y_GenoSkyline = [bw.values(chrom,end-1,end)[0] for chrom, end in zip(df_all['chrom'],df_all['end'])]"
   ]
  },
  {
   "cell_type": "code",
   "execution_count": 220,
   "metadata": {},
   "outputs": [
    {
     "name": "stdout",
     "output_type": "stream",
     "text": [
      "A549 E114\n",
      "0.76\n",
      "0.052\n",
      "0.119\n",
      "GM12878 E116\n",
      "0.743\n",
      "0.246\n",
      "0.34\n",
      "HepG2 E118\n",
      "0.582\n",
      "0.212\n",
      "0.133\n"
     ]
    },
    {
     "ename": "RuntimeError",
     "evalue": "Invalid interval bounds!",
     "output_type": "error",
     "traceback": [
      "\u001b[0;31m---------------------------------------------------------------------------\u001b[0m",
      "\u001b[0;31mRuntimeError\u001b[0m                              Traceback (most recent call last)",
      "\u001b[0;32m<ipython-input-220-888f7eb3d8b0>\u001b[0m in \u001b[0;36m<module>\u001b[0;34m\u001b[0m\n\u001b[1;32m      3\u001b[0m     \u001b[0mbw\u001b[0m \u001b[0;34m=\u001b[0m \u001b[0mpyBigWig\u001b[0m\u001b[0;34m.\u001b[0m\u001b[0mopen\u001b[0m\u001b[0;34m(\u001b[0m\u001b[0mpath\u001b[0m \u001b[0;34m+\u001b[0m \u001b[0;34m'Roadmap_'\u001b[0m \u001b[0;34m+\u001b[0m \u001b[0mcode\u001b[0m \u001b[0;34m+\u001b[0m \u001b[0;34m'.bw'\u001b[0m\u001b[0;34m)\u001b[0m\u001b[0;34m\u001b[0m\u001b[0;34m\u001b[0m\u001b[0m\n\u001b[1;32m      4\u001b[0m     \u001b[0my\u001b[0m \u001b[0;34m=\u001b[0m \u001b[0mdf_all\u001b[0m\u001b[0;34m[\u001b[0m\u001b[0;34m'cellSp_label'\u001b[0m\u001b[0;34m]\u001b[0m\u001b[0;34m\u001b[0m\u001b[0;34m\u001b[0m\u001b[0m\n\u001b[0;32m----> 5\u001b[0;31m     \u001b[0my_GenoSkyline\u001b[0m \u001b[0;34m=\u001b[0m \u001b[0;34m[\u001b[0m\u001b[0mbw\u001b[0m\u001b[0;34m.\u001b[0m\u001b[0mvalues\u001b[0m\u001b[0;34m(\u001b[0m\u001b[0mchrom\u001b[0m\u001b[0;34m,\u001b[0m\u001b[0mend\u001b[0m\u001b[0;34m-\u001b[0m\u001b[0;36m1\u001b[0m\u001b[0;34m,\u001b[0m\u001b[0mend\u001b[0m\u001b[0;34m)\u001b[0m\u001b[0;34m[\u001b[0m\u001b[0;36m0\u001b[0m\u001b[0;34m]\u001b[0m \u001b[0;32mfor\u001b[0m \u001b[0mchrom\u001b[0m\u001b[0;34m,\u001b[0m \u001b[0mend\u001b[0m \u001b[0;32min\u001b[0m \u001b[0mzip\u001b[0m\u001b[0;34m(\u001b[0m\u001b[0mdf_all\u001b[0m\u001b[0;34m[\u001b[0m\u001b[0;34m'chrom'\u001b[0m\u001b[0;34m]\u001b[0m\u001b[0;34m,\u001b[0m\u001b[0mdf_all\u001b[0m\u001b[0;34m[\u001b[0m\u001b[0;34m'end'\u001b[0m\u001b[0;34m]\u001b[0m\u001b[0;34m)\u001b[0m\u001b[0;34m]\u001b[0m\u001b[0;34m\u001b[0m\u001b[0;34m\u001b[0m\u001b[0m\n\u001b[0m\u001b[1;32m      6\u001b[0m     \u001b[0mprint\u001b[0m \u001b[0;34m(\u001b[0m\u001b[0mcell\u001b[0m\u001b[0;34m,\u001b[0m\u001b[0mcode\u001b[0m\u001b[0;34m)\u001b[0m\u001b[0;34m\u001b[0m\u001b[0;34m\u001b[0m\u001b[0m\n\u001b[1;32m      7\u001b[0m     \u001b[0mprint\u001b[0m \u001b[0;34m(\u001b[0m\u001b[0mround\u001b[0m\u001b[0;34m(\u001b[0m\u001b[0mroc_auc_score\u001b[0m\u001b[0;34m(\u001b[0m\u001b[0my\u001b[0m\u001b[0;34m,\u001b[0m \u001b[0my_GenoSkyline\u001b[0m\u001b[0;34m)\u001b[0m\u001b[0;34m,\u001b[0m\u001b[0;36m3\u001b[0m\u001b[0;34m)\u001b[0m\u001b[0;34m)\u001b[0m\u001b[0;34m\u001b[0m\u001b[0;34m\u001b[0m\u001b[0m\n",
      "\u001b[0;32m<ipython-input-220-888f7eb3d8b0>\u001b[0m in \u001b[0;36m<listcomp>\u001b[0;34m(.0)\u001b[0m\n\u001b[1;32m      3\u001b[0m     \u001b[0mbw\u001b[0m \u001b[0;34m=\u001b[0m \u001b[0mpyBigWig\u001b[0m\u001b[0;34m.\u001b[0m\u001b[0mopen\u001b[0m\u001b[0;34m(\u001b[0m\u001b[0mpath\u001b[0m \u001b[0;34m+\u001b[0m \u001b[0;34m'Roadmap_'\u001b[0m \u001b[0;34m+\u001b[0m \u001b[0mcode\u001b[0m \u001b[0;34m+\u001b[0m \u001b[0;34m'.bw'\u001b[0m\u001b[0;34m)\u001b[0m\u001b[0;34m\u001b[0m\u001b[0;34m\u001b[0m\u001b[0m\n\u001b[1;32m      4\u001b[0m     \u001b[0my\u001b[0m \u001b[0;34m=\u001b[0m \u001b[0mdf_all\u001b[0m\u001b[0;34m[\u001b[0m\u001b[0;34m'cellSp_label'\u001b[0m\u001b[0;34m]\u001b[0m\u001b[0;34m\u001b[0m\u001b[0;34m\u001b[0m\u001b[0m\n\u001b[0;32m----> 5\u001b[0;31m     \u001b[0my_GenoSkyline\u001b[0m \u001b[0;34m=\u001b[0m \u001b[0;34m[\u001b[0m\u001b[0mbw\u001b[0m\u001b[0;34m.\u001b[0m\u001b[0mvalues\u001b[0m\u001b[0;34m(\u001b[0m\u001b[0mchrom\u001b[0m\u001b[0;34m,\u001b[0m\u001b[0mend\u001b[0m\u001b[0;34m-\u001b[0m\u001b[0;36m1\u001b[0m\u001b[0;34m,\u001b[0m\u001b[0mend\u001b[0m\u001b[0;34m)\u001b[0m\u001b[0;34m[\u001b[0m\u001b[0;36m0\u001b[0m\u001b[0;34m]\u001b[0m \u001b[0;32mfor\u001b[0m \u001b[0mchrom\u001b[0m\u001b[0;34m,\u001b[0m \u001b[0mend\u001b[0m \u001b[0;32min\u001b[0m \u001b[0mzip\u001b[0m\u001b[0;34m(\u001b[0m\u001b[0mdf_all\u001b[0m\u001b[0;34m[\u001b[0m\u001b[0;34m'chrom'\u001b[0m\u001b[0;34m]\u001b[0m\u001b[0;34m,\u001b[0m\u001b[0mdf_all\u001b[0m\u001b[0;34m[\u001b[0m\u001b[0;34m'end'\u001b[0m\u001b[0;34m]\u001b[0m\u001b[0;34m)\u001b[0m\u001b[0;34m]\u001b[0m\u001b[0;34m\u001b[0m\u001b[0;34m\u001b[0m\u001b[0m\n\u001b[0m\u001b[1;32m      6\u001b[0m     \u001b[0mprint\u001b[0m \u001b[0;34m(\u001b[0m\u001b[0mcell\u001b[0m\u001b[0;34m,\u001b[0m\u001b[0mcode\u001b[0m\u001b[0;34m)\u001b[0m\u001b[0;34m\u001b[0m\u001b[0;34m\u001b[0m\u001b[0m\n\u001b[1;32m      7\u001b[0m     \u001b[0mprint\u001b[0m \u001b[0;34m(\u001b[0m\u001b[0mround\u001b[0m\u001b[0;34m(\u001b[0m\u001b[0mroc_auc_score\u001b[0m\u001b[0;34m(\u001b[0m\u001b[0my\u001b[0m\u001b[0;34m,\u001b[0m \u001b[0my_GenoSkyline\u001b[0m\u001b[0;34m)\u001b[0m\u001b[0;34m,\u001b[0m\u001b[0;36m3\u001b[0m\u001b[0;34m)\u001b[0m\u001b[0;34m)\u001b[0m\u001b[0;34m\u001b[0m\u001b[0;34m\u001b[0m\u001b[0m\n",
      "\u001b[0;31mRuntimeError\u001b[0m: Invalid interval bounds!"
     ]
    }
   ],
   "source": [
    "for code,cell in zip(cells_roadmap_code,cells_roadmap):\n",
    "    df_all = df_all_dict[cell]\n",
    "    bw = pyBigWig.open(path + 'Roadmap_' + code + '.bw')\n",
    "    y = df_all['cellSp_label']\n",
    "    y_GenoSkyline = [bw.values(chrom,end-1,end)[0] for chrom, end in zip(df_all['chrom'],df_all['end'])]\n",
    "    print (cell,code)\n",
    "    print (round(roc_auc_score(y, y_GenoSkyline),3))\n",
    "    print (round(average_precision_score(y, y_GenoSkyline),3))\n",
    "    print (round(np.corrcoef(y_GenoSkyline,y)[0,1],3))\n",
    "    bw.close()"
   ]
  },
  {
   "cell_type": "code",
   "execution_count": 262,
   "metadata": {},
   "outputs": [
    {
     "name": "stdout",
     "output_type": "stream",
     "text": [
      "t\n"
     ]
    }
   ],
   "source": [
    "chroms = ['chr' + str(i) for i in range(1,19)]\n",
    "\n",
    "if 'chr1' in ['chr1']:\n",
    "    print ('t')"
   ]
  },
  {
   "cell_type": "code",
   "execution_count": 254,
   "metadata": {},
   "outputs": [
    {
     "data": {
      "text/plain": [
       "['chrom1',\n",
       " 'chrom2',\n",
       " 'chrom3',\n",
       " 'chrom4',\n",
       " 'chrom5',\n",
       " 'chrom6',\n",
       " 'chrom7',\n",
       " 'chrom8',\n",
       " 'chrom9',\n",
       " 'chrom10',\n",
       " 'chrom11',\n",
       " 'chrom12',\n",
       " 'chrom13',\n",
       " 'chrom14',\n",
       " 'chrom15',\n",
       " 'chrom16',\n",
       " 'chrom17',\n",
       " 'chrom18']"
      ]
     },
     "execution_count": 254,
     "metadata": {},
     "output_type": "execute_result"
    }
   ],
   "source": [
    "['chrom' + str(i) for i in range(1,19)]"
   ]
  },
  {
   "cell_type": "code",
   "execution_count": 265,
   "metadata": {},
   "outputs": [
    {
     "data": {
      "text/plain": [
       "0.0009769280441105366"
      ]
     },
     "execution_count": 265,
     "metadata": {},
     "output_type": "execute_result"
    }
   ],
   "source": [
    "bw.values(chrom,end-1,end)[0]"
   ]
  },
  {
   "cell_type": "code",
   "execution_count": 268,
   "metadata": {},
   "outputs": [],
   "source": [
    "cell = 'K562'\n",
    "code = 'E123'\n",
    "df_all = df_all_dict[cell].copy()"
   ]
  },
  {
   "cell_type": "code",
   "execution_count": 272,
   "metadata": {},
   "outputs": [
    {
     "data": {
      "text/plain": [
       "14878"
      ]
     },
     "execution_count": 272,
     "metadata": {},
     "output_type": "execute_result"
    }
   ],
   "source": [
    "len(y_GenoSkyline)"
   ]
  },
  {
   "cell_type": "code",
   "execution_count": 266,
   "metadata": {},
   "outputs": [],
   "source": [
    "bw = pyBigWig.open(path + 'Roadmap_' + code + '.bw')\n",
    "y = df_all.loc[df_all['chrom'] in chroms, 'cellSp_label']\n",
    "y_GenoSkyline = []\n",
    "\n",
    "for chrom, end in zip(df_all['chrom'],df_all['end']):\n",
    "    if chrom in ['chr' + str(i) for i in range(1,19)]:\n",
    "        y_GenoSkyline.append(bw.values(chrom,end-1,end)[0]) #just replace 0 on chr19... not having scores\n",
    "    else: \n",
    "        y_GenoSkyline.append(0) #unavailable"
   ]
  },
  {
   "cell_type": "code",
   "execution_count": 275,
   "metadata": {},
   "outputs": [],
   "source": [
    "y_GenoSkyline = np.nan_to_num(y_GenoSkyline)"
   ]
  },
  {
   "cell_type": "code",
   "execution_count": 276,
   "metadata": {},
   "outputs": [
    {
     "name": "stdout",
     "output_type": "stream",
     "text": [
      "K562 E123\n",
      "0.628\n",
      "0.09\n",
      "0.144\n"
     ]
    }
   ],
   "source": [
    "print (cell,code)\n",
    "print (round(roc_auc_score(y, y_GenoSkyline),3))\n",
    "print (round(average_precision_score(y, y_GenoSkyline),3))\n",
    "print (round(np.corrcoef(y_GenoSkyline,y)[0,1],3))\n",
    "bw.close()"
   ]
  },
  {
   "cell_type": "code",
   "execution_count": null,
   "metadata": {},
   "outputs": [],
   "source": []
  },
  {
   "cell_type": "code",
   "execution_count": 203,
   "metadata": {},
   "outputs": [
    {
     "name": "stdout",
     "output_type": "stream",
     "text": [
      "0.617 0.123 0.092\n"
     ]
    }
   ],
   "source": [
    "for train, test in cv.split(x,y):\n",
    "    y_score = np.array(y_GenoSkyline)[test]\n",
    "    y_true = y[test]\n",
    "    roc_aucs.append(roc_auc_score(y_true, y_score))\n",
    "    ave_prs.append(average_precision_score(y_true, y_score))\n",
    "    cors.append(np.corrcoef(y_score,y_true)[0,1])\n",
    "print (np.round(np.mean(np.array(roc_aucs)),3),np.round(np.mean(np.array(ave_prs)),3),np.round(np.mean(np.array(cors)),3))"
   ]
  },
  {
   "cell_type": "code",
   "execution_count": null,
   "metadata": {},
   "outputs": [],
   "source": []
  },
  {
   "cell_type": "markdown",
   "metadata": {},
   "source": [
    "## DeepSEA"
   ]
  },
  {
   "cell_type": "code",
   "execution_count": 232,
   "metadata": {},
   "outputs": [
    {
     "name": "stdout",
     "output_type": "stream",
     "text": [
      "A549 E114\n",
      "0.632\n",
      "0.022\n",
      "0.049\n",
      "GM12878 E116\n",
      "0.688\n",
      "0.222\n",
      "0.19\n",
      "HepG2 E118\n",
      "0.611\n",
      "0.226\n",
      "0.138\n",
      "K562 E123\n",
      "0.572\n",
      "0.062\n",
      "0.054\n"
     ]
    }
   ],
   "source": [
    "for code,cell in zip(cells_roadmap_code,cells_roadmap):\n",
    "    df_all = df_all_dict[cell]\n",
    "    y = df_all['cellSp_label']\n",
    "    y_score = -df_all['funsig']\n",
    "    print (cell,code)\n",
    "    print (round(roc_auc_score(y, y_score),3))\n",
    "    print (round(average_precision_score(y, y_score),3))\n",
    "    print (round(np.corrcoef(y_score,y)[0,1],3))"
   ]
  },
  {
   "cell_type": "code",
   "execution_count": null,
   "metadata": {},
   "outputs": [],
   "source": []
  },
  {
   "cell_type": "markdown",
   "metadata": {},
   "source": [
    "# Generalize cellSp rf models to one single model"
   ]
  },
  {
   "cell_type": "markdown",
   "metadata": {},
   "source": [
    "## Average from 6 cellSp rf models"
   ]
  },
  {
   "cell_type": "code",
   "execution_count": 58,
   "metadata": {},
   "outputs": [],
   "source": [
    "from sklearn.model_selection import ShuffleSplit # or StratifiedShuffleSplit"
   ]
  },
  {
   "cell_type": "code",
   "execution_count": 59,
   "metadata": {},
   "outputs": [],
   "source": [
    "clf = {}\n",
    "x_train = {}\n",
    "x_test = {}\n",
    "x_test_generic = {}\n",
    "y_train = {}\n",
    "y_test = {}"
   ]
  },
  {
   "cell_type": "code",
   "execution_count": 62,
   "metadata": {},
   "outputs": [
    {
     "data": {
      "text/html": [
       "<div>\n",
       "<style scoped>\n",
       "    .dataframe tbody tr th:only-of-type {\n",
       "        vertical-align: middle;\n",
       "    }\n",
       "\n",
       "    .dataframe tbody tr th {\n",
       "        vertical-align: top;\n",
       "    }\n",
       "\n",
       "    .dataframe thead th {\n",
       "        text-align: right;\n",
       "    }\n",
       "</style>\n",
       "<table border=\"1\" class=\"dataframe\">\n",
       "  <thead>\n",
       "    <tr style=\"text-align: right;\">\n",
       "      <th></th>\n",
       "      <th>chrom</th>\n",
       "      <th>end</th>\n",
       "      <th>ref</th>\n",
       "      <th>alt</th>\n",
       "      <th>label</th>\n",
       "      <th>CHIP</th>\n",
       "      <th>DNASE</th>\n",
       "      <th>PWM</th>\n",
       "      <th>FOOTPRINT</th>\n",
       "      <th>EQTL_2</th>\n",
       "      <th>...</th>\n",
       "      <th>H3K9me1_cellSp</th>\n",
       "      <th>H3K9me2_cellSp</th>\n",
       "      <th>H3K9me3_cellSp</th>\n",
       "      <th>H3T11ph_cellSp</th>\n",
       "      <th>H4K12ac_cellSp</th>\n",
       "      <th>H4K20me1_cellSp</th>\n",
       "      <th>H4K5ac_cellSp</th>\n",
       "      <th>H4K8ac_cellSp</th>\n",
       "      <th>H4K91ac_cellSp</th>\n",
       "      <th>GenoNet</th>\n",
       "    </tr>\n",
       "  </thead>\n",
       "  <tbody>\n",
       "    <tr>\n",
       "      <th>0</th>\n",
       "      <td>chr10</td>\n",
       "      <td>10107267</td>\n",
       "      <td>A</td>\n",
       "      <td>G</td>\n",
       "      <td>1</td>\n",
       "      <td>0</td>\n",
       "      <td>0</td>\n",
       "      <td>1</td>\n",
       "      <td>0</td>\n",
       "      <td>0</td>\n",
       "      <td>...</td>\n",
       "      <td>0</td>\n",
       "      <td>0</td>\n",
       "      <td>0</td>\n",
       "      <td>0</td>\n",
       "      <td>0</td>\n",
       "      <td>0</td>\n",
       "      <td>0</td>\n",
       "      <td>0</td>\n",
       "      <td>0</td>\n",
       "      <td>0.0235</td>\n",
       "    </tr>\n",
       "    <tr>\n",
       "      <th>1</th>\n",
       "      <td>chr10</td>\n",
       "      <td>101365302</td>\n",
       "      <td>G</td>\n",
       "      <td>A</td>\n",
       "      <td>1</td>\n",
       "      <td>1</td>\n",
       "      <td>1</td>\n",
       "      <td>0</td>\n",
       "      <td>0</td>\n",
       "      <td>0</td>\n",
       "      <td>...</td>\n",
       "      <td>0</td>\n",
       "      <td>0</td>\n",
       "      <td>0</td>\n",
       "      <td>0</td>\n",
       "      <td>0</td>\n",
       "      <td>0</td>\n",
       "      <td>0</td>\n",
       "      <td>0</td>\n",
       "      <td>0</td>\n",
       "      <td>0.0306</td>\n",
       "    </tr>\n",
       "    <tr>\n",
       "      <th>2</th>\n",
       "      <td>chr10</td>\n",
       "      <td>101844785</td>\n",
       "      <td>A</td>\n",
       "      <td>G</td>\n",
       "      <td>1</td>\n",
       "      <td>1</td>\n",
       "      <td>1</td>\n",
       "      <td>0</td>\n",
       "      <td>0</td>\n",
       "      <td>0</td>\n",
       "      <td>...</td>\n",
       "      <td>0</td>\n",
       "      <td>0</td>\n",
       "      <td>0</td>\n",
       "      <td>0</td>\n",
       "      <td>0</td>\n",
       "      <td>0</td>\n",
       "      <td>0</td>\n",
       "      <td>0</td>\n",
       "      <td>0</td>\n",
       "      <td>0.0384</td>\n",
       "    </tr>\n",
       "    <tr>\n",
       "      <th>3</th>\n",
       "      <td>chr10</td>\n",
       "      <td>102027407</td>\n",
       "      <td>C</td>\n",
       "      <td>T</td>\n",
       "      <td>1</td>\n",
       "      <td>1</td>\n",
       "      <td>1</td>\n",
       "      <td>1</td>\n",
       "      <td>1</td>\n",
       "      <td>0</td>\n",
       "      <td>...</td>\n",
       "      <td>0</td>\n",
       "      <td>0</td>\n",
       "      <td>0</td>\n",
       "      <td>0</td>\n",
       "      <td>0</td>\n",
       "      <td>0</td>\n",
       "      <td>0</td>\n",
       "      <td>0</td>\n",
       "      <td>0</td>\n",
       "      <td>1.0000</td>\n",
       "    </tr>\n",
       "    <tr>\n",
       "      <th>4</th>\n",
       "      <td>chr10</td>\n",
       "      <td>102084897</td>\n",
       "      <td>C</td>\n",
       "      <td>T</td>\n",
       "      <td>1</td>\n",
       "      <td>1</td>\n",
       "      <td>1</td>\n",
       "      <td>0</td>\n",
       "      <td>0</td>\n",
       "      <td>0</td>\n",
       "      <td>...</td>\n",
       "      <td>0</td>\n",
       "      <td>0</td>\n",
       "      <td>0</td>\n",
       "      <td>0</td>\n",
       "      <td>0</td>\n",
       "      <td>0</td>\n",
       "      <td>0</td>\n",
       "      <td>0</td>\n",
       "      <td>0</td>\n",
       "      <td>0.0227</td>\n",
       "    </tr>\n",
       "  </tbody>\n",
       "</table>\n",
       "<p>5 rows × 63 columns</p>\n",
       "</div>"
      ],
      "text/plain": [
       "   chrom        end ref alt  label  CHIP  DNASE  PWM  FOOTPRINT  EQTL_2  ...  \\\n",
       "0  chr10   10107267   A   G      1     0      0    1          0       0  ...   \n",
       "1  chr10  101365302   G   A      1     1      1    0          0       0  ...   \n",
       "2  chr10  101844785   A   G      1     1      1    0          0       0  ...   \n",
       "3  chr10  102027407   C   T      1     1      1    1          1       0  ...   \n",
       "4  chr10  102084897   C   T      1     1      1    0          0       0  ...   \n",
       "\n",
       "   H3K9me1_cellSp  H3K9me2_cellSp  H3K9me3_cellSp  H3T11ph_cellSp  \\\n",
       "0               0               0               0               0   \n",
       "1               0               0               0               0   \n",
       "2               0               0               0               0   \n",
       "3               0               0               0               0   \n",
       "4               0               0               0               0   \n",
       "\n",
       "   H4K12ac_cellSp  H4K20me1_cellSp  H4K5ac_cellSp  H4K8ac_cellSp  \\\n",
       "0               0                0              0              0   \n",
       "1               0                0              0              0   \n",
       "2               0                0              0              0   \n",
       "3               0                0              0              0   \n",
       "4               0                0              0              0   \n",
       "\n",
       "   H4K91ac_cellSp  GenoNet  \n",
       "0               0   0.0235  \n",
       "1               0   0.0306  \n",
       "2               0   0.0384  \n",
       "3               0   1.0000  \n",
       "4               0   0.0227  \n",
       "\n",
       "[5 rows x 63 columns]"
      ]
     },
     "execution_count": 62,
     "metadata": {},
     "output_type": "execute_result"
    }
   ],
   "source": [
    "df_all_dict['GM12878'].head()"
   ]
  },
  {
   "cell_type": "code",
   "execution_count": 64,
   "metadata": {},
   "outputs": [],
   "source": [
    "#adjusted class weight\n",
    "for cell in cells:\n",
    "    df_all = df_all_dict[cell]\n",
    "    x = np.array(df_all[features_names_cell_sp_2]) #final 7 features\n",
    "    y = df_all['cellSp_label']\n",
    "    sss = ShuffleSplit(n_splits=1, test_size=0.25,random_state=0) #25%test\n",
    "    train_index, test_index = next(sss.split(x, y)) \n",
    "    x_train[cell], x_test[cell] = x[train_index], x[test_index] \n",
    "    y_train[cell], y_test[cell] = y[train_index], y[test_index]\n",
    "    x_test_generic[cell] = y_scores[test_index] #get generic scores for test set\n",
    "    #print (cell,np.mean(y[train_index]),np.mean(y[test_index]))\n",
    "#    clf[cell]=RandomForestClassifier(n_estimators=100,random_state=100,oob_score=True)\n",
    "    clf[cell]=RandomForestClassifier(class_weight='balanced',n_estimators=100,random_state=100,oob_score=True)\n",
    "    clf[cell].fit(x_train[cell],y_train[cell])\n",
    "    \n",
    "    "
   ]
  },
  {
   "cell_type": "code",
   "execution_count": 66,
   "metadata": {},
   "outputs": [],
   "source": [
    "y_pred_all_cellsp_only = defaultdict(list)\n",
    "y_pred_all_cellsp = defaultdict(list)\n",
    "y_test_all = defaultdict(list)\n",
    "for cell in cells:\n",
    "    x = x_test[cell]\n",
    "    y_pred_cellsp_only = np.mean(np.array([list(clf[i].predict_proba(x)[:,1]) for i in cells]),axis=0)\n",
    "    y_pred_cellsp = x_test_generic[cell] * y_pred_cellsp_only\n",
    "    y_pred_all_cellsp_only[cell] = list(y_pred_cellsp_only)\n",
    "    y_pred_all_cellsp[cell] = list(y_pred_cellsp)\n",
    "    y_test_all[cell] = list(y_test[cell])"
   ]
  },
  {
   "cell_type": "code",
   "execution_count": 67,
   "metadata": {},
   "outputs": [
    {
     "name": "stdout",
     "output_type": "stream",
     "text": [
      "GM12878\n",
      "0.542 0.899 0.541\n",
      "A549\n",
      "0.078 0.876 0.186\n",
      "H1hESC\n",
      "0.289 0.836 0.374\n",
      "HepG2\n",
      "0.397 0.816 0.416\n",
      "K562\n",
      "0.129 0.799 0.24\n",
      "MCF7\n",
      "0.14 0.842 0.267\n"
     ]
    }
   ],
   "source": [
    "for cell in cells:\n",
    "    print (cell)\n",
    "    print (round(average_precision_score(y_test_all[cell], y_pred_all_cellsp[cell]),3),\n",
    "           round(roc_auc_score(y_test_all[cell], y_pred_all_cellsp[cell]),3),\n",
    "           round(np.corrcoef(y_pred_all_cellsp[cell],y_test_all[cell])[0,1],3))"
   ]
  },
  {
   "cell_type": "markdown",
   "metadata": {},
   "source": [
    "## clf cell sp dict, train with whole set on final 7 features"
   ]
  },
  {
   "cell_type": "code",
   "execution_count": 75,
   "metadata": {},
   "outputs": [],
   "source": [
    "clf = {}"
   ]
  },
  {
   "cell_type": "code",
   "execution_count": 76,
   "metadata": {},
   "outputs": [
    {
     "data": {
      "text/plain": [
       "['H3K27ac_cellSp',\n",
       " 'H3K36me3_cellSp',\n",
       " 'H3K4me1_cellSp',\n",
       " 'H3K4me3_cellSp',\n",
       " 'H3K27me3_cellSp',\n",
       " 'DNASE_cellSp',\n",
       " 'FOOTPRINT_cellSp']"
      ]
     },
     "execution_count": 76,
     "metadata": {},
     "output_type": "execute_result"
    }
   ],
   "source": [
    "features_names_cell_sp_2"
   ]
  },
  {
   "cell_type": "code",
   "execution_count": 77,
   "metadata": {},
   "outputs": [],
   "source": [
    "#adjusted class weight\n",
    "for cell in cells:\n",
    "    df_all = df_all_dict[cell]\n",
    "    x = np.array(df_all[features_names_cell_sp_2])\n",
    "    y = df_all['cellSp_label']\n",
    "    clf[cell]=RandomForestClassifier(class_weight='balanced',n_estimators=100,random_state=100,oob_score=True)\n",
    "    clf[cell].fit(x,y)  "
   ]
  },
  {
   "cell_type": "code",
   "execution_count": 78,
   "metadata": {},
   "outputs": [
    {
     "name": "stdout",
     "output_type": "stream",
     "text": [
      "GM12878 0.7613254469686785\n",
      "A549 0.7743648339830622\n",
      "H1hESC 0.7700631805350181\n",
      "HepG2 0.6683694044898508\n",
      "K562 0.6886678316978089\n",
      "MCF7 0.7002957386745531\n"
     ]
    }
   ],
   "source": [
    "#oob\n",
    "for cell in cells:\n",
    "    print (cell,clf[cell].oob_score_)"
   ]
  },
  {
   "cell_type": "code",
   "execution_count": 291,
   "metadata": {},
   "outputs": [],
   "source": [
    "pickle.dump(clf,open('ASB_cell_sp_clf_dict.pkl','wb')) #output cellSp_ensemble in 6 ASB cells"
   ]
  },
  {
   "cell_type": "markdown",
   "metadata": {},
   "source": [
    "## Violin plot on ASB set"
   ]
  },
  {
   "cell_type": "code",
   "execution_count": 89,
   "metadata": {},
   "outputs": [],
   "source": [
    "#cell sp only part; 7 features\n",
    "x_preds = defaultdict(list)\n",
    "\n",
    "for i in cells: #features from i\n",
    "    for cell in cells: #ASB from cell\n",
    "        df_ASB = df_all_dict[i].loc[df_all_dict[cell]['cellSp_label']==1]\n",
    "        x_ASB = df_ASB[features_names_cell_sp_2]\n",
    "        y_ASB = np.mean(np.array([list(clf[c].predict_proba(x_ASB)[:,1]) for c in cells]),axis=0)\n",
    "        x_preds[cell].append(list(y_ASB))"
   ]
  },
  {
   "cell_type": "code",
   "execution_count": 90,
   "metadata": {},
   "outputs": [],
   "source": [
    "#cell sp final scores; 7 features\n",
    "x_preds_final = defaultdict(list)\n",
    "\n",
    "for i in cells: #features from i\n",
    "    for cell in cells: #ASB from cell\n",
    "        df_ASB = df_all_dict[i].loc[df_all_dict[cell]['cellSp_label']==1]\n",
    "        y_ASB_generic = y_scores[df_all_dict[cell]['cellSp_label']==1]\n",
    "        x_ASB = df_ASB[features_names_cell_sp_2]\n",
    "        y_ASB = np.mean(np.array([list(clf[c].predict_proba(x_ASB)[:,1]) for c in cells]),axis=0)\n",
    "        x_preds_final[cell].append(list(y_ASB*y_ASB_generic))"
   ]
  },
  {
   "cell_type": "code",
   "execution_count": 80,
   "metadata": {},
   "outputs": [
    {
     "data": {
      "image/png": "[encoded data removed]",
      "text/plain": [
       "<Figure size 432x432 with 6 Axes>"
      ]
     },
     "metadata": {
      "needs_background": "light"
     },
     "output_type": "display_data"
    }
   ],
   "source": [
    "#plot boxplot/violin plot; cell sp only part\n",
    "fig, axes = plt.subplots(6, 1,sharex=True, sharey=True,figsize=(6,6))\n",
    "\n",
    "for i in range(6):\n",
    "    x_preds_df = pd.DataFrame(np.array(x_preds[cells[i]]).transpose(),columns=cells)\n",
    "    x_preds_df = x_preds_df.melt()\n",
    "    x_preds_df.columns = ['cell','prediction scores']\n",
    "    #sns.boxplot(x='cell',y='prediction scores',data=x_preds_df,ax=axes[i])\n",
    "    sns.violinplot(x='cell',y='prediction scores',data=x_preds_df,ax=axes[i])\n",
    "    axes[i].set_ylabel(cells[i])\n",
    "    axes[i].set_xlabel('')\n",
    "axes[5].set_xlabel('Cell type-specific predictions')\n",
    "fig.text(0,0.5,'ASB cell type', va='center', ha='center', rotation='vertical', fontsize=plt.rcParams['axes.labelsize'])\n",
    "fig.tight_layout()"
   ]
  },
  {
   "cell_type": "code",
   "execution_count": 151,
   "metadata": {},
   "outputs": [],
   "source": [
    "sns.set_style(\"whitegrid\") #set white background & with grid"
   ]
  },
  {
   "cell_type": "code",
   "execution_count": 152,
   "metadata": {},
   "outputs": [
    {
     "data": {
      "text/plain": [
       "Text(0, 0.5, 'ASB cell type')"
      ]
     },
     "execution_count": 152,
     "metadata": {},
     "output_type": "execute_result"
    },
    {
     "data": {
      "image/png": "[encoded data removed]",
      "text/plain": [
       "<Figure size 504x504 with 6 Axes>"
      ]
     },
     "metadata": {},
     "output_type": "display_data"
    }
   ],
   "source": [
    "#plot boxplot/violin plot; final scores\n",
    "fig, axes = plt.subplots(6, 1,sharex=True, sharey=True,figsize=(7,7))\n",
    "plt.subplots_adjust(hspace = .2)\n",
    "\n",
    "for i in range(6):\n",
    "    x_preds_df = pd.DataFrame(np.array(x_preds_final[cells[i]]).transpose(),columns=cells)\n",
    "    x_preds_df = x_preds_df.melt()\n",
    "    x_preds_df.columns = ['cell','prediction scores']\n",
    "    sns.violinplot(x='cell',y='prediction scores',data=x_preds_df,ax=axes[i])\n",
    "    axes[i].set_ylabel(cells[i])\n",
    "    axes[i].set_xlabel('')\n",
    "    axes[i].set_ylim(0,1)\n",
    "axes[5].set_xlabel('Cell type-specific predictions')\n",
    "fig.text(0,0.5,'ASB cell type', va='center', ha='center', rotation='vertical', fontsize=plt.rcParams['axes.labelsize'])\n",
    "#fig.tight_layout()"
   ]
  },
  {
   "cell_type": "code",
   "execution_count": 148,
   "metadata": {},
   "outputs": [],
   "source": [
    "fig.savefig('plots/ASB_cell_sp_final_scores_violin.pdf',bbox_inches='tight',dpi=300)"
   ]
  },
  {
   "cell_type": "markdown",
   "metadata": {},
   "source": [
    "# Performance scatter plot"
   ]
  },
  {
   "cell_type": "code",
   "execution_count": 280,
   "metadata": {},
   "outputs": [],
   "source": [
    "matplotlib.rcParams['pdf.fonttype'] = 42\n",
    "matplotlib.rcParams['ps.fonttype'] = 42"
   ]
  },
  {
   "cell_type": "code",
   "execution_count": 281,
   "metadata": {},
   "outputs": [],
   "source": [
    "sns.set_context(\"paper\")\n",
    "sns.set(font='serif')"
   ]
  },
  {
   "cell_type": "code",
   "execution_count": 282,
   "metadata": {},
   "outputs": [],
   "source": [
    "sns.set_style(\"ticks\",{'axes.grid': True })"
   ]
  },
  {
   "cell_type": "code",
   "execution_count": null,
   "metadata": {},
   "outputs": [],
   "source": []
  },
  {
   "cell_type": "code",
   "execution_count": 283,
   "metadata": {},
   "outputs": [],
   "source": [
    "perf = []\n",
    "perf.append(['SURF_cellSp','GM12878',0.510,0.882,0.537])\n",
    "perf.append(['SURF_cellSp','K562',0.313,0.815,0.366])\n",
    "perf.append(['SURF_cellSp','A549',0.315,0.833,0.369])\n",
    "perf.append(['SURF_cellSp','HepG2',0.353,0.831,0.401])\n",
    "\n",
    "perf.append(['SURF_cellSp_generalized','GM12878',0.511,0.894,0.538])\n",
    "perf.append(['SURF_cellSp_generalized','K562',0.316,0.847,0.376])\n",
    "perf.append(['SURF_cellSp_generalized','A549',0.313,0.872,0.369])\n",
    "perf.append(['SURF_cellSp_generalized','HepG2',0.355,0.857,0.406])\n",
    "\n",
    "perf.append(['GenoNet','GM12878',0.129,0.685,0.14])\n",
    "perf.append(['GenoNet','K562',0.14,0.644,0.113])\n",
    "perf.append(['GenoNet','A549',0.03,0.69,0.094])\n",
    "perf.append(['GenoNet','HepG2',0.161,0.654,0.134])\n",
    "\n",
    "perf.append(['DeepSEA','GM12878',0.222,0.688,0.19])\n",
    "perf.append(['DeepSEA','K562',0.062,0.572,0.054])\n",
    "perf.append(['DeepSEA','A549',0.022,0.632,0.049])\n",
    "perf.append(['DeepSEA','HepG2',0.226,0.611,0.138])\n",
    "\n",
    "perf.append(['GenoSkyline','GM12878',0.246,0.743,0.34])\n",
    "perf.append(['GenoSkyline','K562',0.09,0.628,0.144]) #no score after chr18; replaced with 0\n",
    "perf.append(['GenoSkyline','A549',0.052,0.76,0.119])\n",
    "perf.append(['GenoSkyline','HepG2',0.212,0.582,0.133])"
   ]
  },
  {
   "cell_type": "code",
   "execution_count": 284,
   "metadata": {},
   "outputs": [],
   "source": [
    "df_perf = pd.DataFrame(perf)\n",
    "df_perf.columns = ['method','cell','AUPR','AUROC','COR']"
   ]
  },
  {
   "cell_type": "code",
   "execution_count": 285,
   "metadata": {},
   "outputs": [
    {
     "data": {
      "text/html": [
       "<div>\n",
       "<style scoped>\n",
       "    .dataframe tbody tr th:only-of-type {\n",
       "        vertical-align: middle;\n",
       "    }\n",
       "\n",
       "    .dataframe tbody tr th {\n",
       "        vertical-align: top;\n",
       "    }\n",
       "\n",
       "    .dataframe thead th {\n",
       "        text-align: right;\n",
       "    }\n",
       "</style>\n",
       "<table border=\"1\" class=\"dataframe\">\n",
       "  <thead>\n",
       "    <tr style=\"text-align: right;\">\n",
       "      <th></th>\n",
       "      <th>method</th>\n",
       "      <th>cell</th>\n",
       "      <th>AUPR</th>\n",
       "      <th>AUROC</th>\n",
       "      <th>COR</th>\n",
       "    </tr>\n",
       "  </thead>\n",
       "  <tbody>\n",
       "    <tr>\n",
       "      <th>0</th>\n",
       "      <td>SURF_cellSp</td>\n",
       "      <td>GM12878</td>\n",
       "      <td>0.510</td>\n",
       "      <td>0.882</td>\n",
       "      <td>0.537</td>\n",
       "    </tr>\n",
       "    <tr>\n",
       "      <th>1</th>\n",
       "      <td>SURF_cellSp</td>\n",
       "      <td>K562</td>\n",
       "      <td>0.313</td>\n",
       "      <td>0.815</td>\n",
       "      <td>0.366</td>\n",
       "    </tr>\n",
       "    <tr>\n",
       "      <th>2</th>\n",
       "      <td>SURF_cellSp</td>\n",
       "      <td>A549</td>\n",
       "      <td>0.315</td>\n",
       "      <td>0.833</td>\n",
       "      <td>0.369</td>\n",
       "    </tr>\n",
       "    <tr>\n",
       "      <th>3</th>\n",
       "      <td>SURF_cellSp</td>\n",
       "      <td>HepG2</td>\n",
       "      <td>0.353</td>\n",
       "      <td>0.831</td>\n",
       "      <td>0.401</td>\n",
       "    </tr>\n",
       "    <tr>\n",
       "      <th>4</th>\n",
       "      <td>SURF_cellSp_generalized</td>\n",
       "      <td>GM12878</td>\n",
       "      <td>0.511</td>\n",
       "      <td>0.894</td>\n",
       "      <td>0.538</td>\n",
       "    </tr>\n",
       "    <tr>\n",
       "      <th>5</th>\n",
       "      <td>SURF_cellSp_generalized</td>\n",
       "      <td>K562</td>\n",
       "      <td>0.316</td>\n",
       "      <td>0.847</td>\n",
       "      <td>0.376</td>\n",
       "    </tr>\n",
       "    <tr>\n",
       "      <th>6</th>\n",
       "      <td>SURF_cellSp_generalized</td>\n",
       "      <td>A549</td>\n",
       "      <td>0.313</td>\n",
       "      <td>0.872</td>\n",
       "      <td>0.369</td>\n",
       "    </tr>\n",
       "    <tr>\n",
       "      <th>7</th>\n",
       "      <td>SURF_cellSp_generalized</td>\n",
       "      <td>HepG2</td>\n",
       "      <td>0.355</td>\n",
       "      <td>0.857</td>\n",
       "      <td>0.406</td>\n",
       "    </tr>\n",
       "    <tr>\n",
       "      <th>8</th>\n",
       "      <td>GenoNet</td>\n",
       "      <td>GM12878</td>\n",
       "      <td>0.129</td>\n",
       "      <td>0.685</td>\n",
       "      <td>0.140</td>\n",
       "    </tr>\n",
       "    <tr>\n",
       "      <th>9</th>\n",
       "      <td>GenoNet</td>\n",
       "      <td>K562</td>\n",
       "      <td>0.140</td>\n",
       "      <td>0.644</td>\n",
       "      <td>0.113</td>\n",
       "    </tr>\n",
       "    <tr>\n",
       "      <th>10</th>\n",
       "      <td>GenoNet</td>\n",
       "      <td>A549</td>\n",
       "      <td>0.030</td>\n",
       "      <td>0.690</td>\n",
       "      <td>0.094</td>\n",
       "    </tr>\n",
       "    <tr>\n",
       "      <th>11</th>\n",
       "      <td>GenoNet</td>\n",
       "      <td>HepG2</td>\n",
       "      <td>0.161</td>\n",
       "      <td>0.654</td>\n",
       "      <td>0.134</td>\n",
       "    </tr>\n",
       "    <tr>\n",
       "      <th>12</th>\n",
       "      <td>DeepSEA</td>\n",
       "      <td>GM12878</td>\n",
       "      <td>0.222</td>\n",
       "      <td>0.688</td>\n",
       "      <td>0.190</td>\n",
       "    </tr>\n",
       "    <tr>\n",
       "      <th>13</th>\n",
       "      <td>DeepSEA</td>\n",
       "      <td>K562</td>\n",
       "      <td>0.062</td>\n",
       "      <td>0.572</td>\n",
       "      <td>0.054</td>\n",
       "    </tr>\n",
       "    <tr>\n",
       "      <th>14</th>\n",
       "      <td>DeepSEA</td>\n",
       "      <td>A549</td>\n",
       "      <td>0.022</td>\n",
       "      <td>0.632</td>\n",
       "      <td>0.049</td>\n",
       "    </tr>\n",
       "    <tr>\n",
       "      <th>15</th>\n",
       "      <td>DeepSEA</td>\n",
       "      <td>HepG2</td>\n",
       "      <td>0.226</td>\n",
       "      <td>0.611</td>\n",
       "      <td>0.138</td>\n",
       "    </tr>\n",
       "    <tr>\n",
       "      <th>16</th>\n",
       "      <td>GenoSkyline</td>\n",
       "      <td>GM12878</td>\n",
       "      <td>0.246</td>\n",
       "      <td>0.743</td>\n",
       "      <td>0.340</td>\n",
       "    </tr>\n",
       "    <tr>\n",
       "      <th>17</th>\n",
       "      <td>GenoSkyline</td>\n",
       "      <td>K562</td>\n",
       "      <td>0.090</td>\n",
       "      <td>0.628</td>\n",
       "      <td>0.144</td>\n",
       "    </tr>\n",
       "    <tr>\n",
       "      <th>18</th>\n",
       "      <td>GenoSkyline</td>\n",
       "      <td>A549</td>\n",
       "      <td>0.052</td>\n",
       "      <td>0.760</td>\n",
       "      <td>0.119</td>\n",
       "    </tr>\n",
       "    <tr>\n",
       "      <th>19</th>\n",
       "      <td>GenoSkyline</td>\n",
       "      <td>HepG2</td>\n",
       "      <td>0.212</td>\n",
       "      <td>0.582</td>\n",
       "      <td>0.133</td>\n",
       "    </tr>\n",
       "  </tbody>\n",
       "</table>\n",
       "</div>"
      ],
      "text/plain": [
       "                     method     cell   AUPR  AUROC    COR\n",
       "0               SURF_cellSp  GM12878  0.510  0.882  0.537\n",
       "1               SURF_cellSp     K562  0.313  0.815  0.366\n",
       "2               SURF_cellSp     A549  0.315  0.833  0.369\n",
       "3               SURF_cellSp    HepG2  0.353  0.831  0.401\n",
       "4   SURF_cellSp_generalized  GM12878  0.511  0.894  0.538\n",
       "5   SURF_cellSp_generalized     K562  0.316  0.847  0.376\n",
       "6   SURF_cellSp_generalized     A549  0.313  0.872  0.369\n",
       "7   SURF_cellSp_generalized    HepG2  0.355  0.857  0.406\n",
       "8                   GenoNet  GM12878  0.129  0.685  0.140\n",
       "9                   GenoNet     K562  0.140  0.644  0.113\n",
       "10                  GenoNet     A549  0.030  0.690  0.094\n",
       "11                  GenoNet    HepG2  0.161  0.654  0.134\n",
       "12                  DeepSEA  GM12878  0.222  0.688  0.190\n",
       "13                  DeepSEA     K562  0.062  0.572  0.054\n",
       "14                  DeepSEA     A549  0.022  0.632  0.049\n",
       "15                  DeepSEA    HepG2  0.226  0.611  0.138\n",
       "16              GenoSkyline  GM12878  0.246  0.743  0.340\n",
       "17              GenoSkyline     K562  0.090  0.628  0.144\n",
       "18              GenoSkyline     A549  0.052  0.760  0.119\n",
       "19              GenoSkyline    HepG2  0.212  0.582  0.133"
      ]
     },
     "execution_count": 285,
     "metadata": {},
     "output_type": "execute_result"
    }
   ],
   "source": [
    "df_perf"
   ]
  },
  {
   "cell_type": "code",
   "execution_count": 287,
   "metadata": {},
   "outputs": [
    {
     "data": {
      "text/plain": [
       "<seaborn.axisgrid.FacetGrid at 0x7f754d73f400>"
      ]
     },
     "execution_count": 287,
     "metadata": {},
     "output_type": "execute_result"
    },
    {
     "data": {
      "image/png": "[encoded data removed]",
      "text/plain": [
       "<Figure size 609.975x432 with 4 Axes>"
      ]
     },
     "metadata": {},
     "output_type": "display_data"
    }
   ],
   "source": [
    "g = sns.FacetGrid(df_perf, col=\"cell\",sharex=False, sharey=False,col_wrap=2)\n",
    "g.map_dataframe(sns.scatterplot, x=\"AUPR\", y=\"AUROC\", hue=\"method\",size = 'COR')\n",
    "g.set_axis_labels(\"AUPR\", \"AUROC\")\n",
    "g.add_legend()"
   ]
  },
  {
   "cell_type": "code",
   "execution_count": 288,
   "metadata": {},
   "outputs": [],
   "source": [
    "g.savefig('plots/ASB_cell_sp_performance_scatter.pdf',bbox_inches='tight',dpi=300)"
   ]
  },
  {
   "cell_type": "markdown",
   "metadata": {},
   "source": [
    "# Check DNASE_cellSp mean for ASB SNVs"
   ]
  },
  {
   "cell_type": "code",
   "execution_count": 304,
   "metadata": {},
   "outputs": [
    {
     "name": "stdout",
     "output_type": "stream",
     "text": [
      "GM12878\n",
      "0.5585683297180043\n",
      "0.17932517811533807\n",
      "A549\n",
      "0.5441860465116279\n",
      "0.176098938029305\n",
      "H1hESC\n",
      "0.4767123287671233\n",
      "0.1641349643769324\n",
      "HepG2\n",
      "0.24838832006067502\n",
      "0.14753327060088722\n",
      "K562\n",
      "0.47174770039421815\n",
      "0.2598467535959134\n",
      "MCF7\n",
      "0.5937984496124031\n",
      "0.24095980642559484\n"
     ]
    }
   ],
   "source": [
    "for cell in df_all_dict.keys():\n",
    "    df_temp = df_all_dict[cell].copy()\n",
    "    print (cell)\n",
    "    print (df_temp.loc[df_temp['cellSp_label']==1,'DNASE_cellSp'].mean())\n",
    "    print (df_temp['DNASE_cellSp'].mean())"
   ]
  },
  {
   "cell_type": "code",
   "execution_count": null,
   "metadata": {},
   "outputs": [],
   "source": []
  }
 ],
 "metadata": {
  "kernelspec": {
   "display_name": "Python 3",
   "language": "python",
   "name": "python3"
  },
  "language_info": {
   "codemirror_mode": {
    "name": "ipython",
    "version": 3
   },
   "file_extension": ".py",
   "mimetype": "text/x-python",
   "name": "python",
   "nbconvert_exporter": "python",
   "pygments_lexer": "ipython3",
   "version": "3.7.2"
  },
  "toc-autonumbering": true
 },
 "nbformat": 4,
 "nbformat_minor": 2
}
